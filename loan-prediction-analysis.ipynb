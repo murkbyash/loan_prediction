{
 "cells": [
  {
   "cell_type": "code",
   "execution_count": 1,
   "id": "experienced-catch",
   "metadata": {
    "_cell_guid": "b1076dfc-b9ad-4769-8c92-a6c4dae69d19",
    "_uuid": "8f2839f25d086af736a60e9eeb907d3b93b6e0e5",
    "execution": {
     "iopub.execute_input": "2021-04-30T13:12:59.658995Z",
     "iopub.status.busy": "2021-04-30T13:12:59.658361Z",
     "iopub.status.idle": "2021-04-30T13:13:00.683091Z",
     "shell.execute_reply": "2021-04-30T13:13:00.683665Z"
    },
    "papermill": {
     "duration": 1.069599,
     "end_time": "2021-04-30T13:13:00.683953",
     "exception": false,
     "start_time": "2021-04-30T13:12:59.614354",
     "status": "completed"
    },
    "tags": []
   },
   "outputs": [
    {
     "name": "stdout",
     "output_type": "stream",
     "text": [
      "/kaggle/input/loan-predication/train_u6lujuX_CVtuZ9i (1).csv\n"
     ]
    }
   ],
   "source": [
    "# This Python 3 environment comes with many helpful analytics libraries installed\n",
    "# It is defined by the kaggle/python Docker image: https://github.com/kaggle/docker-python\n",
    "# For example, here's several helpful packages to load\n",
    "\n",
    "import numpy as np # linear algebra\n",
    "import pandas as pd # data processing, CSV file I/O (e.g. pd.read_csv)\n",
    "import matplotlib.pyplot as plt\n",
    "import seaborn as sns\n",
    "\n",
    "# Input data files are available in the read-only \"../input/\" directory\n",
    "# For example, running this (by clicking run or pressing Shift+Enter) will list all files under the input directory\n",
    "\n",
    "import os\n",
    "for dirname, _, filenames in os.walk('/kaggle/input'):\n",
    "    for filename in filenames:\n",
    "        print(os.path.join(dirname, filename))\n",
    "\n",
    "# You can write up to 20GB to the current directory (/kaggle/working/) that gets preserved as output when you create a version using \"Save & Run All\" \n",
    "# You can also write temporary files to /kaggle/temp/, but they won't be saved outside of the current session"
   ]
  },
  {
   "cell_type": "code",
   "execution_count": 2,
   "id": "important-tucson",
   "metadata": {
    "execution": {
     "iopub.execute_input": "2021-04-30T13:13:00.761330Z",
     "iopub.status.busy": "2021-04-30T13:13:00.760595Z",
     "iopub.status.idle": "2021-04-30T13:13:00.814883Z",
     "shell.execute_reply": "2021-04-30T13:13:00.815453Z"
    },
    "papermill": {
     "duration": 0.094478,
     "end_time": "2021-04-30T13:13:00.815636",
     "exception": false,
     "start_time": "2021-04-30T13:13:00.721158",
     "status": "completed"
    },
    "tags": []
   },
   "outputs": [
    {
     "data": {
      "text/html": [
       "<div>\n",
       "<style scoped>\n",
       "    .dataframe tbody tr th:only-of-type {\n",
       "        vertical-align: middle;\n",
       "    }\n",
       "\n",
       "    .dataframe tbody tr th {\n",
       "        vertical-align: top;\n",
       "    }\n",
       "\n",
       "    .dataframe thead th {\n",
       "        text-align: right;\n",
       "    }\n",
       "</style>\n",
       "<table border=\"1\" class=\"dataframe\">\n",
       "  <thead>\n",
       "    <tr style=\"text-align: right;\">\n",
       "      <th></th>\n",
       "      <th>Loan_ID</th>\n",
       "      <th>Gender</th>\n",
       "      <th>Married</th>\n",
       "      <th>Dependents</th>\n",
       "      <th>Education</th>\n",
       "      <th>Self_Employed</th>\n",
       "      <th>ApplicantIncome</th>\n",
       "      <th>CoapplicantIncome</th>\n",
       "      <th>LoanAmount</th>\n",
       "      <th>Loan_Amount_Term</th>\n",
       "      <th>Credit_History</th>\n",
       "      <th>Property_Area</th>\n",
       "      <th>Loan_Status</th>\n",
       "    </tr>\n",
       "  </thead>\n",
       "  <tbody>\n",
       "    <tr>\n",
       "      <th>0</th>\n",
       "      <td>LP001002</td>\n",
       "      <td>Male</td>\n",
       "      <td>No</td>\n",
       "      <td>0</td>\n",
       "      <td>Graduate</td>\n",
       "      <td>No</td>\n",
       "      <td>5849</td>\n",
       "      <td>0.0</td>\n",
       "      <td>NaN</td>\n",
       "      <td>360.0</td>\n",
       "      <td>1.0</td>\n",
       "      <td>Urban</td>\n",
       "      <td>Y</td>\n",
       "    </tr>\n",
       "    <tr>\n",
       "      <th>1</th>\n",
       "      <td>LP001003</td>\n",
       "      <td>Male</td>\n",
       "      <td>Yes</td>\n",
       "      <td>1</td>\n",
       "      <td>Graduate</td>\n",
       "      <td>No</td>\n",
       "      <td>4583</td>\n",
       "      <td>1508.0</td>\n",
       "      <td>128.0</td>\n",
       "      <td>360.0</td>\n",
       "      <td>1.0</td>\n",
       "      <td>Rural</td>\n",
       "      <td>N</td>\n",
       "    </tr>\n",
       "    <tr>\n",
       "      <th>2</th>\n",
       "      <td>LP001005</td>\n",
       "      <td>Male</td>\n",
       "      <td>Yes</td>\n",
       "      <td>0</td>\n",
       "      <td>Graduate</td>\n",
       "      <td>Yes</td>\n",
       "      <td>3000</td>\n",
       "      <td>0.0</td>\n",
       "      <td>66.0</td>\n",
       "      <td>360.0</td>\n",
       "      <td>1.0</td>\n",
       "      <td>Urban</td>\n",
       "      <td>Y</td>\n",
       "    </tr>\n",
       "    <tr>\n",
       "      <th>3</th>\n",
       "      <td>LP001006</td>\n",
       "      <td>Male</td>\n",
       "      <td>Yes</td>\n",
       "      <td>0</td>\n",
       "      <td>Not Graduate</td>\n",
       "      <td>No</td>\n",
       "      <td>2583</td>\n",
       "      <td>2358.0</td>\n",
       "      <td>120.0</td>\n",
       "      <td>360.0</td>\n",
       "      <td>1.0</td>\n",
       "      <td>Urban</td>\n",
       "      <td>Y</td>\n",
       "    </tr>\n",
       "    <tr>\n",
       "      <th>4</th>\n",
       "      <td>LP001008</td>\n",
       "      <td>Male</td>\n",
       "      <td>No</td>\n",
       "      <td>0</td>\n",
       "      <td>Graduate</td>\n",
       "      <td>No</td>\n",
       "      <td>6000</td>\n",
       "      <td>0.0</td>\n",
       "      <td>141.0</td>\n",
       "      <td>360.0</td>\n",
       "      <td>1.0</td>\n",
       "      <td>Urban</td>\n",
       "      <td>Y</td>\n",
       "    </tr>\n",
       "  </tbody>\n",
       "</table>\n",
       "</div>"
      ],
      "text/plain": [
       "    Loan_ID Gender Married Dependents     Education Self_Employed  \\\n",
       "0  LP001002   Male      No          0      Graduate            No   \n",
       "1  LP001003   Male     Yes          1      Graduate            No   \n",
       "2  LP001005   Male     Yes          0      Graduate           Yes   \n",
       "3  LP001006   Male     Yes          0  Not Graduate            No   \n",
       "4  LP001008   Male      No          0      Graduate            No   \n",
       "\n",
       "   ApplicantIncome  CoapplicantIncome  LoanAmount  Loan_Amount_Term  \\\n",
       "0             5849                0.0         NaN             360.0   \n",
       "1             4583             1508.0       128.0             360.0   \n",
       "2             3000                0.0        66.0             360.0   \n",
       "3             2583             2358.0       120.0             360.0   \n",
       "4             6000                0.0       141.0             360.0   \n",
       "\n",
       "   Credit_History Property_Area Loan_Status  \n",
       "0             1.0         Urban           Y  \n",
       "1             1.0         Rural           N  \n",
       "2             1.0         Urban           Y  \n",
       "3             1.0         Urban           Y  \n",
       "4             1.0         Urban           Y  "
      ]
     },
     "execution_count": 2,
     "metadata": {},
     "output_type": "execute_result"
    }
   ],
   "source": [
    "df = pd.read_csv('/kaggle/input/loan-predication/train_u6lujuX_CVtuZ9i (1).csv')\n",
    "df.head()"
   ]
  },
  {
   "cell_type": "code",
   "execution_count": 3,
   "id": "induced-priest",
   "metadata": {
    "execution": {
     "iopub.execute_input": "2021-04-30T13:13:00.898273Z",
     "iopub.status.busy": "2021-04-30T13:13:00.897464Z",
     "iopub.status.idle": "2021-04-30T13:13:00.923073Z",
     "shell.execute_reply": "2021-04-30T13:13:00.922078Z"
    },
    "papermill": {
     "duration": 0.070275,
     "end_time": "2021-04-30T13:13:00.923278",
     "exception": false,
     "start_time": "2021-04-30T13:13:00.853003",
     "status": "completed"
    },
    "tags": []
   },
   "outputs": [
    {
     "data": {
      "text/html": [
       "<div>\n",
       "<style scoped>\n",
       "    .dataframe tbody tr th:only-of-type {\n",
       "        vertical-align: middle;\n",
       "    }\n",
       "\n",
       "    .dataframe tbody tr th {\n",
       "        vertical-align: top;\n",
       "    }\n",
       "\n",
       "    .dataframe thead th {\n",
       "        text-align: right;\n",
       "    }\n",
       "</style>\n",
       "<table border=\"1\" class=\"dataframe\">\n",
       "  <thead>\n",
       "    <tr style=\"text-align: right;\">\n",
       "      <th></th>\n",
       "      <th>ApplicantIncome</th>\n",
       "      <th>CoapplicantIncome</th>\n",
       "      <th>LoanAmount</th>\n",
       "      <th>Loan_Amount_Term</th>\n",
       "      <th>Credit_History</th>\n",
       "    </tr>\n",
       "  </thead>\n",
       "  <tbody>\n",
       "    <tr>\n",
       "      <th>count</th>\n",
       "      <td>614.000000</td>\n",
       "      <td>614.000000</td>\n",
       "      <td>592.000000</td>\n",
       "      <td>600.00000</td>\n",
       "      <td>564.000000</td>\n",
       "    </tr>\n",
       "    <tr>\n",
       "      <th>mean</th>\n",
       "      <td>5403.459283</td>\n",
       "      <td>1621.245798</td>\n",
       "      <td>146.412162</td>\n",
       "      <td>342.00000</td>\n",
       "      <td>0.842199</td>\n",
       "    </tr>\n",
       "    <tr>\n",
       "      <th>std</th>\n",
       "      <td>6109.041673</td>\n",
       "      <td>2926.248369</td>\n",
       "      <td>85.587325</td>\n",
       "      <td>65.12041</td>\n",
       "      <td>0.364878</td>\n",
       "    </tr>\n",
       "    <tr>\n",
       "      <th>min</th>\n",
       "      <td>150.000000</td>\n",
       "      <td>0.000000</td>\n",
       "      <td>9.000000</td>\n",
       "      <td>12.00000</td>\n",
       "      <td>0.000000</td>\n",
       "    </tr>\n",
       "    <tr>\n",
       "      <th>25%</th>\n",
       "      <td>2877.500000</td>\n",
       "      <td>0.000000</td>\n",
       "      <td>100.000000</td>\n",
       "      <td>360.00000</td>\n",
       "      <td>1.000000</td>\n",
       "    </tr>\n",
       "    <tr>\n",
       "      <th>50%</th>\n",
       "      <td>3812.500000</td>\n",
       "      <td>1188.500000</td>\n",
       "      <td>128.000000</td>\n",
       "      <td>360.00000</td>\n",
       "      <td>1.000000</td>\n",
       "    </tr>\n",
       "    <tr>\n",
       "      <th>75%</th>\n",
       "      <td>5795.000000</td>\n",
       "      <td>2297.250000</td>\n",
       "      <td>168.000000</td>\n",
       "      <td>360.00000</td>\n",
       "      <td>1.000000</td>\n",
       "    </tr>\n",
       "    <tr>\n",
       "      <th>max</th>\n",
       "      <td>81000.000000</td>\n",
       "      <td>41667.000000</td>\n",
       "      <td>700.000000</td>\n",
       "      <td>480.00000</td>\n",
       "      <td>1.000000</td>\n",
       "    </tr>\n",
       "  </tbody>\n",
       "</table>\n",
       "</div>"
      ],
      "text/plain": [
       "       ApplicantIncome  CoapplicantIncome  LoanAmount  Loan_Amount_Term  \\\n",
       "count       614.000000         614.000000  592.000000         600.00000   \n",
       "mean       5403.459283        1621.245798  146.412162         342.00000   \n",
       "std        6109.041673        2926.248369   85.587325          65.12041   \n",
       "min         150.000000           0.000000    9.000000          12.00000   \n",
       "25%        2877.500000           0.000000  100.000000         360.00000   \n",
       "50%        3812.500000        1188.500000  128.000000         360.00000   \n",
       "75%        5795.000000        2297.250000  168.000000         360.00000   \n",
       "max       81000.000000       41667.000000  700.000000         480.00000   \n",
       "\n",
       "       Credit_History  \n",
       "count      564.000000  \n",
       "mean         0.842199  \n",
       "std          0.364878  \n",
       "min          0.000000  \n",
       "25%          1.000000  \n",
       "50%          1.000000  \n",
       "75%          1.000000  \n",
       "max          1.000000  "
      ]
     },
     "execution_count": 3,
     "metadata": {},
     "output_type": "execute_result"
    }
   ],
   "source": [
    "df.describe()"
   ]
  },
  {
   "cell_type": "code",
   "execution_count": 4,
   "id": "marine-drain",
   "metadata": {
    "execution": {
     "iopub.execute_input": "2021-04-30T13:13:01.002782Z",
     "iopub.status.busy": "2021-04-30T13:13:01.002107Z",
     "iopub.status.idle": "2021-04-30T13:13:01.020319Z",
     "shell.execute_reply": "2021-04-30T13:13:01.019414Z"
    },
    "papermill": {
     "duration": 0.060276,
     "end_time": "2021-04-30T13:13:01.020525",
     "exception": false,
     "start_time": "2021-04-30T13:13:00.960249",
     "status": "completed"
    },
    "tags": []
   },
   "outputs": [
    {
     "name": "stdout",
     "output_type": "stream",
     "text": [
      "<class 'pandas.core.frame.DataFrame'>\n",
      "RangeIndex: 614 entries, 0 to 613\n",
      "Data columns (total 13 columns):\n",
      " #   Column             Non-Null Count  Dtype  \n",
      "---  ------             --------------  -----  \n",
      " 0   Loan_ID            614 non-null    object \n",
      " 1   Gender             601 non-null    object \n",
      " 2   Married            611 non-null    object \n",
      " 3   Dependents         599 non-null    object \n",
      " 4   Education          614 non-null    object \n",
      " 5   Self_Employed      582 non-null    object \n",
      " 6   ApplicantIncome    614 non-null    int64  \n",
      " 7   CoapplicantIncome  614 non-null    float64\n",
      " 8   LoanAmount         592 non-null    float64\n",
      " 9   Loan_Amount_Term   600 non-null    float64\n",
      " 10  Credit_History     564 non-null    float64\n",
      " 11  Property_Area      614 non-null    object \n",
      " 12  Loan_Status        614 non-null    object \n",
      "dtypes: float64(4), int64(1), object(8)\n",
      "memory usage: 62.5+ KB\n"
     ]
    }
   ],
   "source": [
    "df.info()"
   ]
  },
  {
   "cell_type": "markdown",
   "id": "enclosed-obligation",
   "metadata": {
    "papermill": {
     "duration": 0.036973,
     "end_time": "2021-04-30T13:13:01.094926",
     "exception": false,
     "start_time": "2021-04-30T13:13:01.057953",
     "status": "completed"
    },
    "tags": []
   },
   "source": [
    "# DATA PREPROCESSING"
   ]
  },
  {
   "cell_type": "code",
   "execution_count": 5,
   "id": "certified-definition",
   "metadata": {
    "execution": {
     "iopub.execute_input": "2021-04-30T13:13:01.172696Z",
     "iopub.status.busy": "2021-04-30T13:13:01.171642Z",
     "iopub.status.idle": "2021-04-30T13:13:01.180994Z",
     "shell.execute_reply": "2021-04-30T13:13:01.181542Z"
    },
    "papermill": {
     "duration": 0.050165,
     "end_time": "2021-04-30T13:13:01.181726",
     "exception": false,
     "start_time": "2021-04-30T13:13:01.131561",
     "status": "completed"
    },
    "tags": []
   },
   "outputs": [
    {
     "data": {
      "text/plain": [
       "Loan_ID               0\n",
       "Gender               13\n",
       "Married               3\n",
       "Dependents           15\n",
       "Education             0\n",
       "Self_Employed        32\n",
       "ApplicantIncome       0\n",
       "CoapplicantIncome     0\n",
       "LoanAmount           22\n",
       "Loan_Amount_Term     14\n",
       "Credit_History       50\n",
       "Property_Area         0\n",
       "Loan_Status           0\n",
       "dtype: int64"
      ]
     },
     "execution_count": 5,
     "metadata": {},
     "output_type": "execute_result"
    }
   ],
   "source": [
    "df.isnull().sum()"
   ]
  },
  {
   "cell_type": "code",
   "execution_count": 6,
   "id": "opposed-syria",
   "metadata": {
    "execution": {
     "iopub.execute_input": "2021-04-30T13:13:01.261740Z",
     "iopub.status.busy": "2021-04-30T13:13:01.260730Z",
     "iopub.status.idle": "2021-04-30T13:13:01.268007Z",
     "shell.execute_reply": "2021-04-30T13:13:01.268521Z"
    },
    "papermill": {
     "duration": 0.048845,
     "end_time": "2021-04-30T13:13:01.268709",
     "exception": false,
     "start_time": "2021-04-30T13:13:01.219864",
     "status": "completed"
    },
    "tags": []
   },
   "outputs": [],
   "source": [
    "#fill the missing values for numerical terms -- mean\n",
    "df['LoanAmount'] = df['LoanAmount'].fillna(df['LoanAmount'].mean())\n",
    "df['Credit_History'] = df['Credit_History'].fillna(df['Credit_History'].mean())\n",
    "df['Loan_Amount_Term'] = df['Loan_Amount_Term'].fillna(df['Loan_Amount_Term'].mean())"
   ]
  },
  {
   "cell_type": "code",
   "execution_count": 7,
   "id": "smooth-tsunami",
   "metadata": {
    "execution": {
     "iopub.execute_input": "2021-04-30T13:13:01.347179Z",
     "iopub.status.busy": "2021-04-30T13:13:01.346078Z",
     "iopub.status.idle": "2021-04-30T13:13:01.357840Z",
     "shell.execute_reply": "2021-04-30T13:13:01.357153Z"
    },
    "papermill": {
     "duration": 0.052051,
     "end_time": "2021-04-30T13:13:01.357984",
     "exception": false,
     "start_time": "2021-04-30T13:13:01.305933",
     "status": "completed"
    },
    "tags": []
   },
   "outputs": [],
   "source": [
    "#fill na values for categorical terms -- mode\n",
    "df['Gender'] = df['Gender'].fillna(df['Gender'].mode()[0])\n",
    "df['Married'] = df['Married'].fillna(df['Married'].mode()[0])\n",
    "df['Dependents'] = df['Dependents'].fillna(df['Dependents'].mode()[0])\n",
    "df['Self_Employed'] = df['Self_Employed'].fillna(df['Self_Employed'].mode()[0])"
   ]
  },
  {
   "cell_type": "code",
   "execution_count": 8,
   "id": "general-miami",
   "metadata": {
    "execution": {
     "iopub.execute_input": "2021-04-30T13:13:01.442384Z",
     "iopub.status.busy": "2021-04-30T13:13:01.441674Z",
     "iopub.status.idle": "2021-04-30T13:13:01.445833Z",
     "shell.execute_reply": "2021-04-30T13:13:01.445174Z"
    },
    "papermill": {
     "duration": 0.050242,
     "end_time": "2021-04-30T13:13:01.445971",
     "exception": false,
     "start_time": "2021-04-30T13:13:01.395729",
     "status": "completed"
    },
    "tags": []
   },
   "outputs": [
    {
     "data": {
      "text/plain": [
       "Loan_ID              0\n",
       "Gender               0\n",
       "Married              0\n",
       "Dependents           0\n",
       "Education            0\n",
       "Self_Employed        0\n",
       "ApplicantIncome      0\n",
       "CoapplicantIncome    0\n",
       "LoanAmount           0\n",
       "Loan_Amount_Term     0\n",
       "Credit_History       0\n",
       "Property_Area        0\n",
       "Loan_Status          0\n",
       "dtype: int64"
      ]
     },
     "execution_count": 8,
     "metadata": {},
     "output_type": "execute_result"
    }
   ],
   "source": [
    "df.isnull().sum()"
   ]
  },
  {
   "cell_type": "markdown",
   "id": "excited-static",
   "metadata": {
    "papermill": {
     "duration": 0.037703,
     "end_time": "2021-04-30T13:13:01.521468",
     "exception": false,
     "start_time": "2021-04-30T13:13:01.483765",
     "status": "completed"
    },
    "tags": []
   },
   "source": [
    "# Explotatory Analysis"
   ]
  },
  {
   "cell_type": "code",
   "execution_count": 9,
   "id": "discrete-clarity",
   "metadata": {
    "execution": {
     "iopub.execute_input": "2021-04-30T13:13:01.600912Z",
     "iopub.status.busy": "2021-04-30T13:13:01.600252Z",
     "iopub.status.idle": "2021-04-30T13:13:01.789480Z",
     "shell.execute_reply": "2021-04-30T13:13:01.788908Z"
    },
    "papermill": {
     "duration": 0.230379,
     "end_time": "2021-04-30T13:13:01.789627",
     "exception": false,
     "start_time": "2021-04-30T13:13:01.559248",
     "status": "completed"
    },
    "tags": []
   },
   "outputs": [
    {
     "name": "stderr",
     "output_type": "stream",
     "text": [
      "/opt/conda/lib/python3.7/site-packages/seaborn/_decorators.py:43: FutureWarning: Pass the following variable as a keyword arg: x. From version 0.12, the only valid positional argument will be `data`, and passing other arguments without an explicit keyword will result in an error or misinterpretation.\n",
      "  FutureWarning\n"
     ]
    },
    {
     "data": {
      "text/plain": [
       "<AxesSubplot:xlabel='Gender', ylabel='count'>"
      ]
     },
     "execution_count": 9,
     "metadata": {},
     "output_type": "execute_result"
    },
    {
     "data": {
      "image/png": "[encoded data removed]",
      "text/plain": [
       "<Figure size 648x360 with 1 Axes>"
      ]
     },
     "metadata": {
      "needs_background": "light"
     },
     "output_type": "display_data"
    }
   ],
   "source": [
    "# categorical visualisation\n",
    "plt.figure(figsize = (9,5))\n",
    "sns.countplot(df['Gender'])"
   ]
  },
  {
   "cell_type": "code",
   "execution_count": 10,
   "id": "following-arrow",
   "metadata": {
    "execution": {
     "iopub.execute_input": "2021-04-30T13:13:01.873505Z",
     "iopub.status.busy": "2021-04-30T13:13:01.872691Z",
     "iopub.status.idle": "2021-04-30T13:13:02.001170Z",
     "shell.execute_reply": "2021-04-30T13:13:02.001671Z"
    },
    "papermill": {
     "duration": 0.17275,
     "end_time": "2021-04-30T13:13:02.001868",
     "exception": false,
     "start_time": "2021-04-30T13:13:01.829118",
     "status": "completed"
    },
    "tags": []
   },
   "outputs": [
    {
     "name": "stderr",
     "output_type": "stream",
     "text": [
      "/opt/conda/lib/python3.7/site-packages/seaborn/_decorators.py:43: FutureWarning: Pass the following variable as a keyword arg: x. From version 0.12, the only valid positional argument will be `data`, and passing other arguments without an explicit keyword will result in an error or misinterpretation.\n",
      "  FutureWarning\n"
     ]
    },
    {
     "data": {
      "text/plain": [
       "<AxesSubplot:xlabel='Married', ylabel='count'>"
      ]
     },
     "execution_count": 10,
     "metadata": {},
     "output_type": "execute_result"
    },
    {
     "data": {
      "image/png": "[encoded data removed]",
      "text/plain": [
       "<Figure size 648x360 with 1 Axes>"
      ]
     },
     "metadata": {
      "needs_background": "light"
     },
     "output_type": "display_data"
    }
   ],
   "source": [
    "plt.figure(figsize = (9,5))\n",
    "sns.countplot(df['Married'])"
   ]
  },
  {
   "cell_type": "code",
   "execution_count": 11,
   "id": "duplicate-airplane",
   "metadata": {
    "execution": {
     "iopub.execute_input": "2021-04-30T13:13:02.110425Z",
     "iopub.status.busy": "2021-04-30T13:13:02.109720Z",
     "iopub.status.idle": "2021-04-30T13:13:02.225729Z",
     "shell.execute_reply": "2021-04-30T13:13:02.226235Z"
    },
    "papermill": {
     "duration": 0.183157,
     "end_time": "2021-04-30T13:13:02.226427",
     "exception": false,
     "start_time": "2021-04-30T13:13:02.043270",
     "status": "completed"
    },
    "tags": []
   },
   "outputs": [
    {
     "name": "stderr",
     "output_type": "stream",
     "text": [
      "/opt/conda/lib/python3.7/site-packages/seaborn/_decorators.py:43: FutureWarning: Pass the following variable as a keyword arg: x. From version 0.12, the only valid positional argument will be `data`, and passing other arguments without an explicit keyword will result in an error or misinterpretation.\n",
      "  FutureWarning\n"
     ]
    },
    {
     "data": {
      "text/plain": [
       "<AxesSubplot:xlabel='Dependents', ylabel='count'>"
      ]
     },
     "execution_count": 11,
     "metadata": {},
     "output_type": "execute_result"
    },
    {
     "data": {
      "image/png": "[encoded data removed]",
      "text/plain": [
       "<Figure size 648x360 with 1 Axes>"
      ]
     },
     "metadata": {
      "needs_background": "light"
     },
     "output_type": "display_data"
    }
   ],
   "source": [
    "plt.figure(figsize = (9,5))\n",
    "sns.countplot(df['Dependents'])"
   ]
  },
  {
   "cell_type": "code",
   "execution_count": 12,
   "id": "accomplished-carolina",
   "metadata": {
    "execution": {
     "iopub.execute_input": "2021-04-30T13:13:02.315225Z",
     "iopub.status.busy": "2021-04-30T13:13:02.314581Z",
     "iopub.status.idle": "2021-04-30T13:13:02.428520Z",
     "shell.execute_reply": "2021-04-30T13:13:02.429036Z"
    },
    "papermill": {
     "duration": 0.160397,
     "end_time": "2021-04-30T13:13:02.429243",
     "exception": false,
     "start_time": "2021-04-30T13:13:02.268846",
     "status": "completed"
    },
    "tags": []
   },
   "outputs": [
    {
     "name": "stderr",
     "output_type": "stream",
     "text": [
      "/opt/conda/lib/python3.7/site-packages/seaborn/_decorators.py:43: FutureWarning: Pass the following variable as a keyword arg: x. From version 0.12, the only valid positional argument will be `data`, and passing other arguments without an explicit keyword will result in an error or misinterpretation.\n",
      "  FutureWarning\n"
     ]
    },
    {
     "data": {
      "text/plain": [
       "<AxesSubplot:xlabel='Self_Employed', ylabel='count'>"
      ]
     },
     "execution_count": 12,
     "metadata": {},
     "output_type": "execute_result"
    },
    {
     "data": {
      "image/png": "[encoded data removed]",
      "text/plain": [
       "<Figure size 648x360 with 1 Axes>"
      ]
     },
     "metadata": {
      "needs_background": "light"
     },
     "output_type": "display_data"
    }
   ],
   "source": [
    "plt.figure(figsize = (9,5))\n",
    "sns.countplot(df['Self_Employed'])"
   ]
  },
  {
   "cell_type": "code",
   "execution_count": 13,
   "id": "martial-sierra",
   "metadata": {
    "execution": {
     "iopub.execute_input": "2021-04-30T13:13:02.521287Z",
     "iopub.status.busy": "2021-04-30T13:13:02.520619Z",
     "iopub.status.idle": "2021-04-30T13:13:02.635577Z",
     "shell.execute_reply": "2021-04-30T13:13:02.636091Z"
    },
    "papermill": {
     "duration": 0.162689,
     "end_time": "2021-04-30T13:13:02.636275",
     "exception": false,
     "start_time": "2021-04-30T13:13:02.473586",
     "status": "completed"
    },
    "tags": []
   },
   "outputs": [
    {
     "name": "stderr",
     "output_type": "stream",
     "text": [
      "/opt/conda/lib/python3.7/site-packages/seaborn/_decorators.py:43: FutureWarning: Pass the following variable as a keyword arg: x. From version 0.12, the only valid positional argument will be `data`, and passing other arguments without an explicit keyword will result in an error or misinterpretation.\n",
      "  FutureWarning\n"
     ]
    },
    {
     "data": {
      "text/plain": [
       "<AxesSubplot:xlabel='Education', ylabel='count'>"
      ]
     },
     "execution_count": 13,
     "metadata": {},
     "output_type": "execute_result"
    },
    {
     "data": {
      "image/png": "[encoded data removed]",
      "text/plain": [
       "<Figure size 648x360 with 1 Axes>"
      ]
     },
     "metadata": {
      "needs_background": "light"
     },
     "output_type": "display_data"
    }
   ],
   "source": [
    "plt.figure(figsize = (9,5))\n",
    "sns.countplot(df['Education'])"
   ]
  },
  {
   "cell_type": "code",
   "execution_count": 14,
   "id": "ultimate-championship",
   "metadata": {
    "execution": {
     "iopub.execute_input": "2021-04-30T13:13:02.732440Z",
     "iopub.status.busy": "2021-04-30T13:13:02.731754Z",
     "iopub.status.idle": "2021-04-30T13:13:02.849260Z",
     "shell.execute_reply": "2021-04-30T13:13:02.849842Z"
    },
    "papermill": {
     "duration": 0.16854,
     "end_time": "2021-04-30T13:13:02.850081",
     "exception": false,
     "start_time": "2021-04-30T13:13:02.681541",
     "status": "completed"
    },
    "tags": []
   },
   "outputs": [
    {
     "name": "stderr",
     "output_type": "stream",
     "text": [
      "/opt/conda/lib/python3.7/site-packages/seaborn/_decorators.py:43: FutureWarning: Pass the following variable as a keyword arg: x. From version 0.12, the only valid positional argument will be `data`, and passing other arguments without an explicit keyword will result in an error or misinterpretation.\n",
      "  FutureWarning\n"
     ]
    },
    {
     "data": {
      "text/plain": [
       "<AxesSubplot:xlabel='Property_Area', ylabel='count'>"
      ]
     },
     "execution_count": 14,
     "metadata": {},
     "output_type": "execute_result"
    },
    {
     "data": {
      "image/png": "[encoded data removed]",
      "text/plain": [
       "<Figure size 648x360 with 1 Axes>"
      ]
     },
     "metadata": {
      "needs_background": "light"
     },
     "output_type": "display_data"
    }
   ],
   "source": [
    "plt.figure(figsize = (9,5))\n",
    "sns.countplot(df['Property_Area'])"
   ]
  },
  {
   "cell_type": "code",
   "execution_count": 15,
   "id": "understood-richmond",
   "metadata": {
    "execution": {
     "iopub.execute_input": "2021-04-30T13:13:02.949866Z",
     "iopub.status.busy": "2021-04-30T13:13:02.949240Z",
     "iopub.status.idle": "2021-04-30T13:13:03.086320Z",
     "shell.execute_reply": "2021-04-30T13:13:03.085735Z"
    },
    "papermill": {
     "duration": 0.187612,
     "end_time": "2021-04-30T13:13:03.086479",
     "exception": false,
     "start_time": "2021-04-30T13:13:02.898867",
     "status": "completed"
    },
    "tags": []
   },
   "outputs": [
    {
     "name": "stderr",
     "output_type": "stream",
     "text": [
      "/opt/conda/lib/python3.7/site-packages/seaborn/_decorators.py:43: FutureWarning: Pass the following variable as a keyword arg: x. From version 0.12, the only valid positional argument will be `data`, and passing other arguments without an explicit keyword will result in an error or misinterpretation.\n",
      "  FutureWarning\n"
     ]
    },
    {
     "data": {
      "text/plain": [
       "<AxesSubplot:xlabel='Loan_Status', ylabel='count'>"
      ]
     },
     "execution_count": 15,
     "metadata": {},
     "output_type": "execute_result"
    },
    {
     "data": {
      "image/png": "[encoded data removed]",
      "text/plain": [
       "<Figure size 648x360 with 1 Axes>"
      ]
     },
     "metadata": {
      "needs_background": "light"
     },
     "output_type": "display_data"
    }
   ],
   "source": [
    "plt.figure(figsize = (9,5))\n",
    "sns.countplot(df['Loan_Status'])"
   ]
  },
  {
   "cell_type": "code",
   "execution_count": 16,
   "id": "enabling-edwards",
   "metadata": {
    "execution": {
     "iopub.execute_input": "2021-04-30T13:13:03.201374Z",
     "iopub.status.busy": "2021-04-30T13:13:03.200667Z",
     "iopub.status.idle": "2021-04-30T13:13:03.728997Z",
     "shell.execute_reply": "2021-04-30T13:13:03.729499Z"
    },
    "papermill": {
     "duration": 0.594688,
     "end_time": "2021-04-30T13:13:03.729694",
     "exception": false,
     "start_time": "2021-04-30T13:13:03.135006",
     "status": "completed"
    },
    "tags": []
   },
   "outputs": [
    {
     "data": {
      "text/plain": [
       "<seaborn.axisgrid.FacetGrid at 0x7f0e302a0190>"
      ]
     },
     "execution_count": 16,
     "metadata": {},
     "output_type": "execute_result"
    },
    {
     "data": {
      "text/plain": [
       "<Figure size 864x1080 with 0 Axes>"
      ]
     },
     "metadata": {},
     "output_type": "display_data"
    },
    {
     "data": {
      "image/png": "[encoded data removed]",
      "text/plain": [
       "<Figure size 360x360 with 1 Axes>"
      ]
     },
     "metadata": {
      "needs_background": "light"
     },
     "output_type": "display_data"
    }
   ],
   "source": [
    "# numerical visualization\n",
    "plt.figure(figsize = (12,15))\n",
    "sns.displot(df['ApplicantIncome'])"
   ]
  },
  {
   "cell_type": "code",
   "execution_count": 17,
   "id": "mathematical-prototype",
   "metadata": {
    "execution": {
     "iopub.execute_input": "2021-04-30T13:13:03.834541Z",
     "iopub.status.busy": "2021-04-30T13:13:03.833897Z",
     "iopub.status.idle": "2021-04-30T13:13:03.838439Z",
     "shell.execute_reply": "2021-04-30T13:13:03.838900Z"
    },
    "papermill": {
     "duration": 0.057755,
     "end_time": "2021-04-30T13:13:03.839110",
     "exception": false,
     "start_time": "2021-04-30T13:13:03.781355",
     "status": "completed"
    },
    "tags": []
   },
   "outputs": [],
   "source": [
    "#apply for transformation to the attribute\n",
    "df['ApplicantIncomeLog'] = np.log(df['ApplicantIncome'])"
   ]
  },
  {
   "cell_type": "code",
   "execution_count": 18,
   "id": "polished-apollo",
   "metadata": {
    "execution": {
     "iopub.execute_input": "2021-04-30T13:13:03.944447Z",
     "iopub.status.busy": "2021-04-30T13:13:03.943798Z",
     "iopub.status.idle": "2021-04-30T13:13:04.285878Z",
     "shell.execute_reply": "2021-04-30T13:13:04.285200Z"
    },
    "papermill": {
     "duration": 0.395419,
     "end_time": "2021-04-30T13:13:04.286020",
     "exception": false,
     "start_time": "2021-04-30T13:13:03.890601",
     "status": "completed"
    },
    "tags": []
   },
   "outputs": [
    {
     "data": {
      "text/plain": [
       "<seaborn.axisgrid.FacetGrid at 0x7f0e1fade590>"
      ]
     },
     "execution_count": 18,
     "metadata": {},
     "output_type": "execute_result"
    },
    {
     "data": {
      "text/plain": [
       "<Figure size 864x1080 with 0 Axes>"
      ]
     },
     "metadata": {},
     "output_type": "display_data"
    },
    {
     "data": {
      "image/png": "[encoded data removed]",
      "text/plain": [
       "<Figure size 360x360 with 1 Axes>"
      ]
     },
     "metadata": {
      "needs_background": "light"
     },
     "output_type": "display_data"
    }
   ],
   "source": [
    "plt.figure(figsize = (12,15))\n",
    "sns.displot(df['ApplicantIncomeLog'])"
   ]
  },
  {
   "cell_type": "code",
   "execution_count": 19,
   "id": "expected-questionnaire",
   "metadata": {
    "execution": {
     "iopub.execute_input": "2021-04-30T13:13:04.432231Z",
     "iopub.status.busy": "2021-04-30T13:13:04.431134Z",
     "iopub.status.idle": "2021-04-30T13:13:04.920074Z",
     "shell.execute_reply": "2021-04-30T13:13:04.919384Z"
    },
    "papermill": {
     "duration": 0.582481,
     "end_time": "2021-04-30T13:13:04.920217",
     "exception": false,
     "start_time": "2021-04-30T13:13:04.337736",
     "status": "completed"
    },
    "tags": []
   },
   "outputs": [
    {
     "data": {
      "text/plain": [
       "<seaborn.axisgrid.FacetGrid at 0x7f0e1fb4aa90>"
      ]
     },
     "execution_count": 19,
     "metadata": {},
     "output_type": "execute_result"
    },
    {
     "data": {
      "text/plain": [
       "<Figure size 1152x1368 with 0 Axes>"
      ]
     },
     "metadata": {},
     "output_type": "display_data"
    },
    {
     "data": {
      "image/png": "[encoded data removed]",
      "text/plain": [
       "<Figure size 360x360 with 1 Axes>"
      ]
     },
     "metadata": {
      "needs_background": "light"
     },
     "output_type": "display_data"
    }
   ],
   "source": [
    "\n",
    "plt.figure(figsize = (16,19))\n",
    "sns.displot(df['CoapplicantIncome'])"
   ]
  },
  {
   "cell_type": "code",
   "execution_count": 20,
   "id": "cordless-timer",
   "metadata": {
    "execution": {
     "iopub.execute_input": "2021-04-30T13:13:05.030727Z",
     "iopub.status.busy": "2021-04-30T13:13:05.030028Z",
     "iopub.status.idle": "2021-04-30T13:13:05.039945Z",
     "shell.execute_reply": "2021-04-30T13:13:05.039390Z"
    },
    "papermill": {
     "duration": 0.066801,
     "end_time": "2021-04-30T13:13:05.040110",
     "exception": false,
     "start_time": "2021-04-30T13:13:04.973309",
     "status": "completed"
    },
    "tags": []
   },
   "outputs": [
    {
     "name": "stderr",
     "output_type": "stream",
     "text": [
      "/opt/conda/lib/python3.7/site-packages/pandas/core/arraylike.py:358: RuntimeWarning: divide by zero encountered in log\n",
      "  result = getattr(ufunc, method)(*inputs, **kwargs)\n"
     ]
    }
   ],
   "source": [
    "df['CoapplicantIncomeLog']= np.log(df['CoapplicantIncome']*100)\n",
    "\n"
   ]
  },
  {
   "cell_type": "code",
   "execution_count": 21,
   "id": "regulation-nickel",
   "metadata": {
    "execution": {
     "iopub.execute_input": "2021-04-30T13:13:05.151522Z",
     "iopub.status.busy": "2021-04-30T13:13:05.150885Z",
     "iopub.status.idle": "2021-04-30T13:13:05.505600Z",
     "shell.execute_reply": "2021-04-30T13:13:05.506217Z"
    },
    "papermill": {
     "duration": 0.41157,
     "end_time": "2021-04-30T13:13:05.506411",
     "exception": false,
     "start_time": "2021-04-30T13:13:05.094841",
     "status": "completed"
    },
    "tags": []
   },
   "outputs": [
    {
     "data": {
      "text/plain": [
       "<seaborn.axisgrid.FacetGrid at 0x7f0e21f260d0>"
      ]
     },
     "execution_count": 21,
     "metadata": {},
     "output_type": "execute_result"
    },
    {
     "data": {
      "text/plain": [
       "<Figure size 864x1080 with 0 Axes>"
      ]
     },
     "metadata": {},
     "output_type": "display_data"
    },
    {
     "data": {
      "image/png": "[encoded data removed]",
      "text/plain": [
       "<Figure size 360x360 with 1 Axes>"
      ]
     },
     "metadata": {
      "needs_background": "light"
     },
     "output_type": "display_data"
    }
   ],
   "source": [
    "plt.figure(figsize = (12,15))\n",
    "sns.displot(df['LoanAmount'])"
   ]
  },
  {
   "cell_type": "code",
   "execution_count": 22,
   "id": "smart-magnitude",
   "metadata": {
    "execution": {
     "iopub.execute_input": "2021-04-30T13:13:05.620414Z",
     "iopub.status.busy": "2021-04-30T13:13:05.619712Z",
     "iopub.status.idle": "2021-04-30T13:13:05.625814Z",
     "shell.execute_reply": "2021-04-30T13:13:05.625285Z"
    },
    "papermill": {
     "duration": 0.063652,
     "end_time": "2021-04-30T13:13:05.625963",
     "exception": false,
     "start_time": "2021-04-30T13:13:05.562311",
     "status": "completed"
    },
    "tags": []
   },
   "outputs": [],
   "source": [
    "df['LoanAmountLog'] = np.log(df['LoanAmount'])"
   ]
  },
  {
   "cell_type": "code",
   "execution_count": 23,
   "id": "equipped-retail",
   "metadata": {
    "execution": {
     "iopub.execute_input": "2021-04-30T13:13:05.763306Z",
     "iopub.status.busy": "2021-04-30T13:13:05.761071Z",
     "iopub.status.idle": "2021-04-30T13:13:06.088623Z",
     "shell.execute_reply": "2021-04-30T13:13:06.089113Z"
    },
    "papermill": {
     "duration": 0.408906,
     "end_time": "2021-04-30T13:13:06.089292",
     "exception": false,
     "start_time": "2021-04-30T13:13:05.680386",
     "status": "completed"
    },
    "tags": []
   },
   "outputs": [
    {
     "data": {
      "text/plain": [
       "<seaborn.axisgrid.FacetGrid at 0x7f0e1f90efd0>"
      ]
     },
     "execution_count": 23,
     "metadata": {},
     "output_type": "execute_result"
    },
    {
     "data": {
      "text/plain": [
       "<Figure size 864x1080 with 0 Axes>"
      ]
     },
     "metadata": {},
     "output_type": "display_data"
    },
    {
     "data": {
      "image/png": "[encoded data removed]",
      "text/plain": [
       "<Figure size 360x360 with 1 Axes>"
      ]
     },
     "metadata": {
      "needs_background": "light"
     },
     "output_type": "display_data"
    }
   ],
   "source": [
    "plt.figure(figsize = (12,15))\n",
    "sns.displot(df['LoanAmountLog'])"
   ]
  },
  {
   "cell_type": "code",
   "execution_count": 24,
   "id": "enhanced-institution",
   "metadata": {
    "execution": {
     "iopub.execute_input": "2021-04-30T13:13:06.205456Z",
     "iopub.status.busy": "2021-04-30T13:13:06.204797Z",
     "iopub.status.idle": "2021-04-30T13:13:06.472040Z",
     "shell.execute_reply": "2021-04-30T13:13:06.472642Z"
    },
    "papermill": {
     "duration": 0.327383,
     "end_time": "2021-04-30T13:13:06.472819",
     "exception": false,
     "start_time": "2021-04-30T13:13:06.145436",
     "status": "completed"
    },
    "tags": []
   },
   "outputs": [
    {
     "data": {
      "text/plain": [
       "<seaborn.axisgrid.FacetGrid at 0x7f0e1fac6dd0>"
      ]
     },
     "execution_count": 24,
     "metadata": {},
     "output_type": "execute_result"
    },
    {
     "data": {
      "image/png": "[encoded data removed]",
      "text/plain": [
       "<Figure size 360x360 with 1 Axes>"
      ]
     },
     "metadata": {
      "needs_background": "light"
     },
     "output_type": "display_data"
    }
   ],
   "source": [
    "sns.displot(df['Loan_Amount_Term'])"
   ]
  },
  {
   "cell_type": "code",
   "execution_count": 25,
   "id": "forward-disclaimer",
   "metadata": {
    "execution": {
     "iopub.execute_input": "2021-04-30T13:13:06.591350Z",
     "iopub.status.busy": "2021-04-30T13:13:06.590608Z",
     "iopub.status.idle": "2021-04-30T13:13:06.595399Z",
     "shell.execute_reply": "2021-04-30T13:13:06.596114Z"
    },
    "papermill": {
     "duration": 0.066054,
     "end_time": "2021-04-30T13:13:06.596299",
     "exception": false,
     "start_time": "2021-04-30T13:13:06.530245",
     "status": "completed"
    },
    "tags": []
   },
   "outputs": [],
   "source": [
    "df['Loan_Amount_TermLog']= np.log(df['Loan_Amount_Term'])"
   ]
  },
  {
   "cell_type": "code",
   "execution_count": 26,
   "id": "banned-modem",
   "metadata": {
    "execution": {
     "iopub.execute_input": "2021-04-30T13:13:06.714645Z",
     "iopub.status.busy": "2021-04-30T13:13:06.713915Z",
     "iopub.status.idle": "2021-04-30T13:13:06.998847Z",
     "shell.execute_reply": "2021-04-30T13:13:06.999368Z"
    },
    "papermill": {
     "duration": 0.345721,
     "end_time": "2021-04-30T13:13:06.999544",
     "exception": false,
     "start_time": "2021-04-30T13:13:06.653823",
     "status": "completed"
    },
    "tags": []
   },
   "outputs": [
    {
     "data": {
      "text/plain": [
       "<seaborn.axisgrid.FacetGrid at 0x7f0e1f6b6d90>"
      ]
     },
     "execution_count": 26,
     "metadata": {},
     "output_type": "execute_result"
    },
    {
     "data": {
      "image/png": "[encoded data removed]",
      "text/plain": [
       "<Figure size 360x360 with 1 Axes>"
      ]
     },
     "metadata": {
      "needs_background": "light"
     },
     "output_type": "display_data"
    }
   ],
   "source": [
    "sns.displot(df['Loan_Amount_TermLog'])"
   ]
  },
  {
   "cell_type": "code",
   "execution_count": 27,
   "id": "applied-second",
   "metadata": {
    "execution": {
     "iopub.execute_input": "2021-04-30T13:13:07.121490Z",
     "iopub.status.busy": "2021-04-30T13:13:07.120835Z",
     "iopub.status.idle": "2021-04-30T13:13:07.384984Z",
     "shell.execute_reply": "2021-04-30T13:13:07.385547Z"
    },
    "papermill": {
     "duration": 0.326776,
     "end_time": "2021-04-30T13:13:07.385724",
     "exception": false,
     "start_time": "2021-04-30T13:13:07.058948",
     "status": "completed"
    },
    "tags": []
   },
   "outputs": [
    {
     "data": {
      "text/plain": [
       "<seaborn.axisgrid.FacetGrid at 0x7f0e1f694090>"
      ]
     },
     "execution_count": 27,
     "metadata": {},
     "output_type": "execute_result"
    },
    {
     "data": {
      "image/png": "[encoded data removed]",
      "text/plain": [
       "<Figure size 360x360 with 1 Axes>"
      ]
     },
     "metadata": {
      "needs_background": "light"
     },
     "output_type": "display_data"
    }
   ],
   "source": [
    "sns.displot(df['Credit_History'])"
   ]
  },
  {
   "cell_type": "markdown",
   "id": "adjacent-admission",
   "metadata": {
    "papermill": {
     "duration": 0.059533,
     "end_time": "2021-04-30T13:13:07.506725",
     "exception": false,
     "start_time": "2021-04-30T13:13:07.447192",
     "status": "completed"
    },
    "tags": []
   },
   "source": [
    "# creating new attributes"
   ]
  },
  {
   "cell_type": "code",
   "execution_count": 28,
   "id": "exotic-sheep",
   "metadata": {
    "execution": {
     "iopub.execute_input": "2021-04-30T13:13:07.630325Z",
     "iopub.status.busy": "2021-04-30T13:13:07.629521Z",
     "iopub.status.idle": "2021-04-30T13:13:07.654640Z",
     "shell.execute_reply": "2021-04-30T13:13:07.654129Z"
    },
    "papermill": {
     "duration": 0.087911,
     "end_time": "2021-04-30T13:13:07.654792",
     "exception": false,
     "start_time": "2021-04-30T13:13:07.566881",
     "status": "completed"
    },
    "tags": []
   },
   "outputs": [
    {
     "data": {
      "text/html": [
       "<div>\n",
       "<style scoped>\n",
       "    .dataframe tbody tr th:only-of-type {\n",
       "        vertical-align: middle;\n",
       "    }\n",
       "\n",
       "    .dataframe tbody tr th {\n",
       "        vertical-align: top;\n",
       "    }\n",
       "\n",
       "    .dataframe thead th {\n",
       "        text-align: right;\n",
       "    }\n",
       "</style>\n",
       "<table border=\"1\" class=\"dataframe\">\n",
       "  <thead>\n",
       "    <tr style=\"text-align: right;\">\n",
       "      <th></th>\n",
       "      <th>Loan_ID</th>\n",
       "      <th>Gender</th>\n",
       "      <th>Married</th>\n",
       "      <th>Dependents</th>\n",
       "      <th>Education</th>\n",
       "      <th>Self_Employed</th>\n",
       "      <th>ApplicantIncome</th>\n",
       "      <th>CoapplicantIncome</th>\n",
       "      <th>LoanAmount</th>\n",
       "      <th>Loan_Amount_Term</th>\n",
       "      <th>Credit_History</th>\n",
       "      <th>Property_Area</th>\n",
       "      <th>Loan_Status</th>\n",
       "      <th>ApplicantIncomeLog</th>\n",
       "      <th>CoapplicantIncomeLog</th>\n",
       "      <th>LoanAmountLog</th>\n",
       "      <th>Loan_Amount_TermLog</th>\n",
       "      <th>Total_income</th>\n",
       "    </tr>\n",
       "  </thead>\n",
       "  <tbody>\n",
       "    <tr>\n",
       "      <th>0</th>\n",
       "      <td>LP001002</td>\n",
       "      <td>Male</td>\n",
       "      <td>No</td>\n",
       "      <td>0</td>\n",
       "      <td>Graduate</td>\n",
       "      <td>No</td>\n",
       "      <td>5849</td>\n",
       "      <td>0.0</td>\n",
       "      <td>146.412162</td>\n",
       "      <td>360.0</td>\n",
       "      <td>1.0</td>\n",
       "      <td>Urban</td>\n",
       "      <td>Y</td>\n",
       "      <td>8.674026</td>\n",
       "      <td>-inf</td>\n",
       "      <td>4.986426</td>\n",
       "      <td>5.886104</td>\n",
       "      <td>5849.0</td>\n",
       "    </tr>\n",
       "    <tr>\n",
       "      <th>1</th>\n",
       "      <td>LP001003</td>\n",
       "      <td>Male</td>\n",
       "      <td>Yes</td>\n",
       "      <td>1</td>\n",
       "      <td>Graduate</td>\n",
       "      <td>No</td>\n",
       "      <td>4583</td>\n",
       "      <td>1508.0</td>\n",
       "      <td>128.000000</td>\n",
       "      <td>360.0</td>\n",
       "      <td>1.0</td>\n",
       "      <td>Rural</td>\n",
       "      <td>N</td>\n",
       "      <td>8.430109</td>\n",
       "      <td>11.923710</td>\n",
       "      <td>4.852030</td>\n",
       "      <td>5.886104</td>\n",
       "      <td>6091.0</td>\n",
       "    </tr>\n",
       "    <tr>\n",
       "      <th>2</th>\n",
       "      <td>LP001005</td>\n",
       "      <td>Male</td>\n",
       "      <td>Yes</td>\n",
       "      <td>0</td>\n",
       "      <td>Graduate</td>\n",
       "      <td>Yes</td>\n",
       "      <td>3000</td>\n",
       "      <td>0.0</td>\n",
       "      <td>66.000000</td>\n",
       "      <td>360.0</td>\n",
       "      <td>1.0</td>\n",
       "      <td>Urban</td>\n",
       "      <td>Y</td>\n",
       "      <td>8.006368</td>\n",
       "      <td>-inf</td>\n",
       "      <td>4.189655</td>\n",
       "      <td>5.886104</td>\n",
       "      <td>3000.0</td>\n",
       "    </tr>\n",
       "    <tr>\n",
       "      <th>3</th>\n",
       "      <td>LP001006</td>\n",
       "      <td>Male</td>\n",
       "      <td>Yes</td>\n",
       "      <td>0</td>\n",
       "      <td>Not Graduate</td>\n",
       "      <td>No</td>\n",
       "      <td>2583</td>\n",
       "      <td>2358.0</td>\n",
       "      <td>120.000000</td>\n",
       "      <td>360.0</td>\n",
       "      <td>1.0</td>\n",
       "      <td>Urban</td>\n",
       "      <td>Y</td>\n",
       "      <td>7.856707</td>\n",
       "      <td>12.370739</td>\n",
       "      <td>4.787492</td>\n",
       "      <td>5.886104</td>\n",
       "      <td>4941.0</td>\n",
       "    </tr>\n",
       "    <tr>\n",
       "      <th>4</th>\n",
       "      <td>LP001008</td>\n",
       "      <td>Male</td>\n",
       "      <td>No</td>\n",
       "      <td>0</td>\n",
       "      <td>Graduate</td>\n",
       "      <td>No</td>\n",
       "      <td>6000</td>\n",
       "      <td>0.0</td>\n",
       "      <td>141.000000</td>\n",
       "      <td>360.0</td>\n",
       "      <td>1.0</td>\n",
       "      <td>Urban</td>\n",
       "      <td>Y</td>\n",
       "      <td>8.699515</td>\n",
       "      <td>-inf</td>\n",
       "      <td>4.948760</td>\n",
       "      <td>5.886104</td>\n",
       "      <td>6000.0</td>\n",
       "    </tr>\n",
       "  </tbody>\n",
       "</table>\n",
       "</div>"
      ],
      "text/plain": [
       "    Loan_ID Gender Married Dependents     Education Self_Employed  \\\n",
       "0  LP001002   Male      No          0      Graduate            No   \n",
       "1  LP001003   Male     Yes          1      Graduate            No   \n",
       "2  LP001005   Male     Yes          0      Graduate           Yes   \n",
       "3  LP001006   Male     Yes          0  Not Graduate            No   \n",
       "4  LP001008   Male      No          0      Graduate            No   \n",
       "\n",
       "   ApplicantIncome  CoapplicantIncome  LoanAmount  Loan_Amount_Term  \\\n",
       "0             5849                0.0  146.412162             360.0   \n",
       "1             4583             1508.0  128.000000             360.0   \n",
       "2             3000                0.0   66.000000             360.0   \n",
       "3             2583             2358.0  120.000000             360.0   \n",
       "4             6000                0.0  141.000000             360.0   \n",
       "\n",
       "   Credit_History Property_Area Loan_Status  ApplicantIncomeLog  \\\n",
       "0             1.0         Urban           Y            8.674026   \n",
       "1             1.0         Rural           N            8.430109   \n",
       "2             1.0         Urban           Y            8.006368   \n",
       "3             1.0         Urban           Y            7.856707   \n",
       "4             1.0         Urban           Y            8.699515   \n",
       "\n",
       "   CoapplicantIncomeLog  LoanAmountLog  Loan_Amount_TermLog  Total_income  \n",
       "0                  -inf       4.986426             5.886104        5849.0  \n",
       "1             11.923710       4.852030             5.886104        6091.0  \n",
       "2                  -inf       4.189655             5.886104        3000.0  \n",
       "3             12.370739       4.787492             5.886104        4941.0  \n",
       "4                  -inf       4.948760             5.886104        6000.0  "
      ]
     },
     "execution_count": 28,
     "metadata": {},
     "output_type": "execute_result"
    }
   ],
   "source": [
    "#total income \n",
    "df['Total_income'] = df['ApplicantIncome']+ df['CoapplicantIncome']\n",
    "df.head()"
   ]
  },
  {
   "cell_type": "code",
   "execution_count": 29,
   "id": "altered-teaching",
   "metadata": {
    "execution": {
     "iopub.execute_input": "2021-04-30T13:13:07.782338Z",
     "iopub.status.busy": "2021-04-30T13:13:07.781620Z",
     "iopub.status.idle": "2021-04-30T13:13:07.784870Z",
     "shell.execute_reply": "2021-04-30T13:13:07.784271Z"
    },
    "papermill": {
     "duration": 0.069748,
     "end_time": "2021-04-30T13:13:07.785106",
     "exception": false,
     "start_time": "2021-04-30T13:13:07.715358",
     "status": "completed"
    },
    "tags": []
   },
   "outputs": [],
   "source": [
    "df['Total_incomeLog']= np.log(df['Total_income'])"
   ]
  },
  {
   "cell_type": "code",
   "execution_count": 30,
   "id": "brazilian-favor",
   "metadata": {
    "execution": {
     "iopub.execute_input": "2021-04-30T13:13:07.933155Z",
     "iopub.status.busy": "2021-04-30T13:13:07.932234Z",
     "iopub.status.idle": "2021-04-30T13:13:07.938119Z",
     "shell.execute_reply": "2021-04-30T13:13:07.937484Z"
    },
    "papermill": {
     "duration": 0.092473,
     "end_time": "2021-04-30T13:13:07.938270",
     "exception": false,
     "start_time": "2021-04-30T13:13:07.845797",
     "status": "completed"
    },
    "tags": []
   },
   "outputs": [
    {
     "data": {
      "text/html": [
       "<div>\n",
       "<style scoped>\n",
       "    .dataframe tbody tr th:only-of-type {\n",
       "        vertical-align: middle;\n",
       "    }\n",
       "\n",
       "    .dataframe tbody tr th {\n",
       "        vertical-align: top;\n",
       "    }\n",
       "\n",
       "    .dataframe thead th {\n",
       "        text-align: right;\n",
       "    }\n",
       "</style>\n",
       "<table border=\"1\" class=\"dataframe\">\n",
       "  <thead>\n",
       "    <tr style=\"text-align: right;\">\n",
       "      <th></th>\n",
       "      <th>Loan_ID</th>\n",
       "      <th>Gender</th>\n",
       "      <th>Married</th>\n",
       "      <th>Dependents</th>\n",
       "      <th>Education</th>\n",
       "      <th>Self_Employed</th>\n",
       "      <th>ApplicantIncome</th>\n",
       "      <th>CoapplicantIncome</th>\n",
       "      <th>LoanAmount</th>\n",
       "      <th>Loan_Amount_Term</th>\n",
       "      <th>Credit_History</th>\n",
       "      <th>Property_Area</th>\n",
       "      <th>Loan_Status</th>\n",
       "      <th>ApplicantIncomeLog</th>\n",
       "      <th>CoapplicantIncomeLog</th>\n",
       "      <th>LoanAmountLog</th>\n",
       "      <th>Loan_Amount_TermLog</th>\n",
       "      <th>Total_income</th>\n",
       "      <th>Total_incomeLog</th>\n",
       "    </tr>\n",
       "  </thead>\n",
       "  <tbody>\n",
       "    <tr>\n",
       "      <th>0</th>\n",
       "      <td>LP001002</td>\n",
       "      <td>Male</td>\n",
       "      <td>No</td>\n",
       "      <td>0</td>\n",
       "      <td>Graduate</td>\n",
       "      <td>No</td>\n",
       "      <td>5849</td>\n",
       "      <td>0.0</td>\n",
       "      <td>146.412162</td>\n",
       "      <td>360.0</td>\n",
       "      <td>1.0</td>\n",
       "      <td>Urban</td>\n",
       "      <td>Y</td>\n",
       "      <td>8.674026</td>\n",
       "      <td>-inf</td>\n",
       "      <td>4.986426</td>\n",
       "      <td>5.886104</td>\n",
       "      <td>5849.0</td>\n",
       "      <td>8.674026</td>\n",
       "    </tr>\n",
       "    <tr>\n",
       "      <th>1</th>\n",
       "      <td>LP001003</td>\n",
       "      <td>Male</td>\n",
       "      <td>Yes</td>\n",
       "      <td>1</td>\n",
       "      <td>Graduate</td>\n",
       "      <td>No</td>\n",
       "      <td>4583</td>\n",
       "      <td>1508.0</td>\n",
       "      <td>128.000000</td>\n",
       "      <td>360.0</td>\n",
       "      <td>1.0</td>\n",
       "      <td>Rural</td>\n",
       "      <td>N</td>\n",
       "      <td>8.430109</td>\n",
       "      <td>11.923710</td>\n",
       "      <td>4.852030</td>\n",
       "      <td>5.886104</td>\n",
       "      <td>6091.0</td>\n",
       "      <td>8.714568</td>\n",
       "    </tr>\n",
       "    <tr>\n",
       "      <th>2</th>\n",
       "      <td>LP001005</td>\n",
       "      <td>Male</td>\n",
       "      <td>Yes</td>\n",
       "      <td>0</td>\n",
       "      <td>Graduate</td>\n",
       "      <td>Yes</td>\n",
       "      <td>3000</td>\n",
       "      <td>0.0</td>\n",
       "      <td>66.000000</td>\n",
       "      <td>360.0</td>\n",
       "      <td>1.0</td>\n",
       "      <td>Urban</td>\n",
       "      <td>Y</td>\n",
       "      <td>8.006368</td>\n",
       "      <td>-inf</td>\n",
       "      <td>4.189655</td>\n",
       "      <td>5.886104</td>\n",
       "      <td>3000.0</td>\n",
       "      <td>8.006368</td>\n",
       "    </tr>\n",
       "    <tr>\n",
       "      <th>3</th>\n",
       "      <td>LP001006</td>\n",
       "      <td>Male</td>\n",
       "      <td>Yes</td>\n",
       "      <td>0</td>\n",
       "      <td>Not Graduate</td>\n",
       "      <td>No</td>\n",
       "      <td>2583</td>\n",
       "      <td>2358.0</td>\n",
       "      <td>120.000000</td>\n",
       "      <td>360.0</td>\n",
       "      <td>1.0</td>\n",
       "      <td>Urban</td>\n",
       "      <td>Y</td>\n",
       "      <td>7.856707</td>\n",
       "      <td>12.370739</td>\n",
       "      <td>4.787492</td>\n",
       "      <td>5.886104</td>\n",
       "      <td>4941.0</td>\n",
       "      <td>8.505323</td>\n",
       "    </tr>\n",
       "    <tr>\n",
       "      <th>4</th>\n",
       "      <td>LP001008</td>\n",
       "      <td>Male</td>\n",
       "      <td>No</td>\n",
       "      <td>0</td>\n",
       "      <td>Graduate</td>\n",
       "      <td>No</td>\n",
       "      <td>6000</td>\n",
       "      <td>0.0</td>\n",
       "      <td>141.000000</td>\n",
       "      <td>360.0</td>\n",
       "      <td>1.0</td>\n",
       "      <td>Urban</td>\n",
       "      <td>Y</td>\n",
       "      <td>8.699515</td>\n",
       "      <td>-inf</td>\n",
       "      <td>4.948760</td>\n",
       "      <td>5.886104</td>\n",
       "      <td>6000.0</td>\n",
       "      <td>8.699515</td>\n",
       "    </tr>\n",
       "  </tbody>\n",
       "</table>\n",
       "</div>"
      ],
      "text/plain": [
       "    Loan_ID Gender Married Dependents     Education Self_Employed  \\\n",
       "0  LP001002   Male      No          0      Graduate            No   \n",
       "1  LP001003   Male     Yes          1      Graduate            No   \n",
       "2  LP001005   Male     Yes          0      Graduate           Yes   \n",
       "3  LP001006   Male     Yes          0  Not Graduate            No   \n",
       "4  LP001008   Male      No          0      Graduate            No   \n",
       "\n",
       "   ApplicantIncome  CoapplicantIncome  LoanAmount  Loan_Amount_Term  \\\n",
       "0             5849                0.0  146.412162             360.0   \n",
       "1             4583             1508.0  128.000000             360.0   \n",
       "2             3000                0.0   66.000000             360.0   \n",
       "3             2583             2358.0  120.000000             360.0   \n",
       "4             6000                0.0  141.000000             360.0   \n",
       "\n",
       "   Credit_History Property_Area Loan_Status  ApplicantIncomeLog  \\\n",
       "0             1.0         Urban           Y            8.674026   \n",
       "1             1.0         Rural           N            8.430109   \n",
       "2             1.0         Urban           Y            8.006368   \n",
       "3             1.0         Urban           Y            7.856707   \n",
       "4             1.0         Urban           Y            8.699515   \n",
       "\n",
       "   CoapplicantIncomeLog  LoanAmountLog  Loan_Amount_TermLog  Total_income  \\\n",
       "0                  -inf       4.986426             5.886104        5849.0   \n",
       "1             11.923710       4.852030             5.886104        6091.0   \n",
       "2                  -inf       4.189655             5.886104        3000.0   \n",
       "3             12.370739       4.787492             5.886104        4941.0   \n",
       "4                  -inf       4.948760             5.886104        6000.0   \n",
       "\n",
       "   Total_incomeLog  \n",
       "0         8.674026  \n",
       "1         8.714568  \n",
       "2         8.006368  \n",
       "3         8.505323  \n",
       "4         8.699515  "
      ]
     },
     "execution_count": 30,
     "metadata": {},
     "output_type": "execute_result"
    }
   ],
   "source": [
    "df.head()"
   ]
  },
  {
   "cell_type": "markdown",
   "id": "approximate-boating",
   "metadata": {
    "papermill": {
     "duration": 0.061668,
     "end_time": "2021-04-30T13:13:08.061630",
     "exception": false,
     "start_time": "2021-04-30T13:13:07.999962",
     "status": "completed"
    },
    "tags": []
   },
   "source": [
    "# Correlation matrix"
   ]
  },
  {
   "cell_type": "code",
   "execution_count": 31,
   "id": "finished-frame",
   "metadata": {
    "execution": {
     "iopub.execute_input": "2021-04-30T13:13:08.192177Z",
     "iopub.status.busy": "2021-04-30T13:13:08.191453Z",
     "iopub.status.idle": "2021-04-30T13:13:08.213955Z",
     "shell.execute_reply": "2021-04-30T13:13:08.213373Z"
    },
    "papermill": {
     "duration": 0.089649,
     "end_time": "2021-04-30T13:13:08.214161",
     "exception": false,
     "start_time": "2021-04-30T13:13:08.124512",
     "status": "completed"
    },
    "tags": []
   },
   "outputs": [
    {
     "data": {
      "text/html": [
       "<div>\n",
       "<style scoped>\n",
       "    .dataframe tbody tr th:only-of-type {\n",
       "        vertical-align: middle;\n",
       "    }\n",
       "\n",
       "    .dataframe tbody tr th {\n",
       "        vertical-align: top;\n",
       "    }\n",
       "\n",
       "    .dataframe thead th {\n",
       "        text-align: right;\n",
       "    }\n",
       "</style>\n",
       "<table border=\"1\" class=\"dataframe\">\n",
       "  <thead>\n",
       "    <tr style=\"text-align: right;\">\n",
       "      <th></th>\n",
       "      <th>ApplicantIncome</th>\n",
       "      <th>CoapplicantIncome</th>\n",
       "      <th>LoanAmount</th>\n",
       "      <th>Loan_Amount_Term</th>\n",
       "      <th>Credit_History</th>\n",
       "      <th>ApplicantIncomeLog</th>\n",
       "      <th>CoapplicantIncomeLog</th>\n",
       "      <th>LoanAmountLog</th>\n",
       "      <th>Loan_Amount_TermLog</th>\n",
       "      <th>Total_income</th>\n",
       "      <th>Total_incomeLog</th>\n",
       "    </tr>\n",
       "  </thead>\n",
       "  <tbody>\n",
       "    <tr>\n",
       "      <th>ApplicantIncome</th>\n",
       "      <td>1.000000</td>\n",
       "      <td>-0.116605</td>\n",
       "      <td>0.565620</td>\n",
       "      <td>-0.045242</td>\n",
       "      <td>-0.014477</td>\n",
       "      <td>0.790532</td>\n",
       "      <td>0.108432</td>\n",
       "      <td>0.434849</td>\n",
       "      <td>-0.024085</td>\n",
       "      <td>0.893037</td>\n",
       "      <td>0.717829</td>\n",
       "    </tr>\n",
       "    <tr>\n",
       "      <th>CoapplicantIncome</th>\n",
       "      <td>-0.116605</td>\n",
       "      <td>1.000000</td>\n",
       "      <td>0.187828</td>\n",
       "      <td>-0.059675</td>\n",
       "      <td>-0.001665</td>\n",
       "      <td>-0.237900</td>\n",
       "      <td>0.711061</td>\n",
       "      <td>0.204179</td>\n",
       "      <td>-0.042941</td>\n",
       "      <td>0.342781</td>\n",
       "      <td>0.383827</td>\n",
       "    </tr>\n",
       "    <tr>\n",
       "      <th>LoanAmount</th>\n",
       "      <td>0.565620</td>\n",
       "      <td>0.187828</td>\n",
       "      <td>1.000000</td>\n",
       "      <td>0.038801</td>\n",
       "      <td>-0.007738</td>\n",
       "      <td>0.551556</td>\n",
       "      <td>0.417763</td>\n",
       "      <td>0.895324</td>\n",
       "      <td>0.044905</td>\n",
       "      <td>0.620102</td>\n",
       "      <td>0.687552</td>\n",
       "    </tr>\n",
       "    <tr>\n",
       "      <th>Loan_Amount_Term</th>\n",
       "      <td>-0.045242</td>\n",
       "      <td>-0.059675</td>\n",
       "      <td>0.038801</td>\n",
       "      <td>1.000000</td>\n",
       "      <td>0.001395</td>\n",
       "      <td>-0.030739</td>\n",
       "      <td>-0.079338</td>\n",
       "      <td>0.086531</td>\n",
       "      <td>0.938871</td>\n",
       "      <td>-0.069830</td>\n",
       "      <td>-0.055320</td>\n",
       "    </tr>\n",
       "    <tr>\n",
       "      <th>Credit_History</th>\n",
       "      <td>-0.014477</td>\n",
       "      <td>-0.001665</td>\n",
       "      <td>-0.007738</td>\n",
       "      <td>0.001395</td>\n",
       "      <td>1.000000</td>\n",
       "      <td>0.019169</td>\n",
       "      <td>-0.063210</td>\n",
       "      <td>-0.025248</td>\n",
       "      <td>-0.007860</td>\n",
       "      <td>-0.014447</td>\n",
       "      <td>0.019156</td>\n",
       "    </tr>\n",
       "    <tr>\n",
       "      <th>ApplicantIncomeLog</th>\n",
       "      <td>0.790532</td>\n",
       "      <td>-0.237900</td>\n",
       "      <td>0.551556</td>\n",
       "      <td>-0.030739</td>\n",
       "      <td>0.019169</td>\n",
       "      <td>1.000000</td>\n",
       "      <td>0.021399</td>\n",
       "      <td>0.491066</td>\n",
       "      <td>-0.014618</td>\n",
       "      <td>0.639953</td>\n",
       "      <td>0.740300</td>\n",
       "    </tr>\n",
       "    <tr>\n",
       "      <th>CoapplicantIncomeLog</th>\n",
       "      <td>0.108432</td>\n",
       "      <td>0.711061</td>\n",
       "      <td>0.417763</td>\n",
       "      <td>-0.079338</td>\n",
       "      <td>-0.063210</td>\n",
       "      <td>0.021399</td>\n",
       "      <td>1.000000</td>\n",
       "      <td>0.393070</td>\n",
       "      <td>-0.055967</td>\n",
       "      <td>0.585476</td>\n",
       "      <td>0.649026</td>\n",
       "    </tr>\n",
       "    <tr>\n",
       "      <th>LoanAmountLog</th>\n",
       "      <td>0.434849</td>\n",
       "      <td>0.204179</td>\n",
       "      <td>0.895324</td>\n",
       "      <td>0.086531</td>\n",
       "      <td>-0.025248</td>\n",
       "      <td>0.491066</td>\n",
       "      <td>0.393070</td>\n",
       "      <td>1.000000</td>\n",
       "      <td>0.084534</td>\n",
       "      <td>0.503817</td>\n",
       "      <td>0.657507</td>\n",
       "    </tr>\n",
       "    <tr>\n",
       "      <th>Loan_Amount_TermLog</th>\n",
       "      <td>-0.024085</td>\n",
       "      <td>-0.042941</td>\n",
       "      <td>0.044905</td>\n",
       "      <td>0.938871</td>\n",
       "      <td>-0.007860</td>\n",
       "      <td>-0.014618</td>\n",
       "      <td>-0.055967</td>\n",
       "      <td>0.084534</td>\n",
       "      <td>1.000000</td>\n",
       "      <td>-0.042237</td>\n",
       "      <td>-0.029522</td>\n",
       "    </tr>\n",
       "    <tr>\n",
       "      <th>Total_income</th>\n",
       "      <td>0.893037</td>\n",
       "      <td>0.342781</td>\n",
       "      <td>0.620102</td>\n",
       "      <td>-0.069830</td>\n",
       "      <td>-0.014447</td>\n",
       "      <td>0.639953</td>\n",
       "      <td>0.585476</td>\n",
       "      <td>0.503817</td>\n",
       "      <td>-0.042237</td>\n",
       "      <td>1.000000</td>\n",
       "      <td>0.852873</td>\n",
       "    </tr>\n",
       "    <tr>\n",
       "      <th>Total_incomeLog</th>\n",
       "      <td>0.717829</td>\n",
       "      <td>0.383827</td>\n",
       "      <td>0.687552</td>\n",
       "      <td>-0.055320</td>\n",
       "      <td>0.019156</td>\n",
       "      <td>0.740300</td>\n",
       "      <td>0.649026</td>\n",
       "      <td>0.657507</td>\n",
       "      <td>-0.029522</td>\n",
       "      <td>0.852873</td>\n",
       "      <td>1.000000</td>\n",
       "    </tr>\n",
       "  </tbody>\n",
       "</table>\n",
       "</div>"
      ],
      "text/plain": [
       "                      ApplicantIncome  CoapplicantIncome  LoanAmount  \\\n",
       "ApplicantIncome              1.000000          -0.116605    0.565620   \n",
       "CoapplicantIncome           -0.116605           1.000000    0.187828   \n",
       "LoanAmount                   0.565620           0.187828    1.000000   \n",
       "Loan_Amount_Term            -0.045242          -0.059675    0.038801   \n",
       "Credit_History              -0.014477          -0.001665   -0.007738   \n",
       "ApplicantIncomeLog           0.790532          -0.237900    0.551556   \n",
       "CoapplicantIncomeLog         0.108432           0.711061    0.417763   \n",
       "LoanAmountLog                0.434849           0.204179    0.895324   \n",
       "Loan_Amount_TermLog         -0.024085          -0.042941    0.044905   \n",
       "Total_income                 0.893037           0.342781    0.620102   \n",
       "Total_incomeLog              0.717829           0.383827    0.687552   \n",
       "\n",
       "                      Loan_Amount_Term  Credit_History  ApplicantIncomeLog  \\\n",
       "ApplicantIncome              -0.045242       -0.014477            0.790532   \n",
       "CoapplicantIncome            -0.059675       -0.001665           -0.237900   \n",
       "LoanAmount                    0.038801       -0.007738            0.551556   \n",
       "Loan_Amount_Term              1.000000        0.001395           -0.030739   \n",
       "Credit_History                0.001395        1.000000            0.019169   \n",
       "ApplicantIncomeLog           -0.030739        0.019169            1.000000   \n",
       "CoapplicantIncomeLog         -0.079338       -0.063210            0.021399   \n",
       "LoanAmountLog                 0.086531       -0.025248            0.491066   \n",
       "Loan_Amount_TermLog           0.938871       -0.007860           -0.014618   \n",
       "Total_income                 -0.069830       -0.014447            0.639953   \n",
       "Total_incomeLog              -0.055320        0.019156            0.740300   \n",
       "\n",
       "                      CoapplicantIncomeLog  LoanAmountLog  \\\n",
       "ApplicantIncome                   0.108432       0.434849   \n",
       "CoapplicantIncome                 0.711061       0.204179   \n",
       "LoanAmount                        0.417763       0.895324   \n",
       "Loan_Amount_Term                 -0.079338       0.086531   \n",
       "Credit_History                   -0.063210      -0.025248   \n",
       "ApplicantIncomeLog                0.021399       0.491066   \n",
       "CoapplicantIncomeLog              1.000000       0.393070   \n",
       "LoanAmountLog                     0.393070       1.000000   \n",
       "Loan_Amount_TermLog              -0.055967       0.084534   \n",
       "Total_income                      0.585476       0.503817   \n",
       "Total_incomeLog                   0.649026       0.657507   \n",
       "\n",
       "                      Loan_Amount_TermLog  Total_income  Total_incomeLog  \n",
       "ApplicantIncome                 -0.024085      0.893037         0.717829  \n",
       "CoapplicantIncome               -0.042941      0.342781         0.383827  \n",
       "LoanAmount                       0.044905      0.620102         0.687552  \n",
       "Loan_Amount_Term                 0.938871     -0.069830        -0.055320  \n",
       "Credit_History                  -0.007860     -0.014447         0.019156  \n",
       "ApplicantIncomeLog              -0.014618      0.639953         0.740300  \n",
       "CoapplicantIncomeLog            -0.055967      0.585476         0.649026  \n",
       "LoanAmountLog                    0.084534      0.503817         0.657507  \n",
       "Loan_Amount_TermLog              1.000000     -0.042237        -0.029522  \n",
       "Total_income                    -0.042237      1.000000         0.852873  \n",
       "Total_incomeLog                 -0.029522      0.852873         1.000000  "
      ]
     },
     "execution_count": 31,
     "metadata": {},
     "output_type": "execute_result"
    }
   ],
   "source": [
    "df.corr()"
   ]
  },
  {
   "cell_type": "code",
   "execution_count": 32,
   "id": "double-cyprus",
   "metadata": {
    "execution": {
     "iopub.execute_input": "2021-04-30T13:13:08.364339Z",
     "iopub.status.busy": "2021-04-30T13:13:08.346916Z",
     "iopub.status.idle": "2021-04-30T13:13:09.271418Z",
     "shell.execute_reply": "2021-04-30T13:13:09.271921Z"
    },
    "papermill": {
     "duration": 0.99515,
     "end_time": "2021-04-30T13:13:09.272121",
     "exception": false,
     "start_time": "2021-04-30T13:13:08.276971",
     "status": "completed"
    },
    "tags": []
   },
   "outputs": [
    {
     "data": {
      "text/plain": [
       "<AxesSubplot:>"
      ]
     },
     "execution_count": 32,
     "metadata": {},
     "output_type": "execute_result"
    },
    {
     "data": {
      "image/png": "[encoded data removed]",
      "text/plain": [
       "<Figure size 1080x648 with 2 Axes>"
      ]
     },
     "metadata": {
      "needs_background": "light"
     },
     "output_type": "display_data"
    }
   ],
   "source": [
    "plt.figure(figsize = (15,9))\n",
    "sns.heatmap(df.corr(), annot = True)"
   ]
  },
  {
   "cell_type": "code",
   "execution_count": 33,
   "id": "initial-bracelet",
   "metadata": {
    "execution": {
     "iopub.execute_input": "2021-04-30T13:13:09.409770Z",
     "iopub.status.busy": "2021-04-30T13:13:09.409086Z",
     "iopub.status.idle": "2021-04-30T13:13:09.429354Z",
     "shell.execute_reply": "2021-04-30T13:13:09.429839Z"
    },
    "papermill": {
     "duration": 0.090897,
     "end_time": "2021-04-30T13:13:09.430130",
     "exception": false,
     "start_time": "2021-04-30T13:13:09.339233",
     "status": "completed"
    },
    "tags": []
   },
   "outputs": [
    {
     "data": {
      "text/html": [
       "<div>\n",
       "<style scoped>\n",
       "    .dataframe tbody tr th:only-of-type {\n",
       "        vertical-align: middle;\n",
       "    }\n",
       "\n",
       "    .dataframe tbody tr th {\n",
       "        vertical-align: top;\n",
       "    }\n",
       "\n",
       "    .dataframe thead th {\n",
       "        text-align: right;\n",
       "    }\n",
       "</style>\n",
       "<table border=\"1\" class=\"dataframe\">\n",
       "  <thead>\n",
       "    <tr style=\"text-align: right;\">\n",
       "      <th></th>\n",
       "      <th>Gender</th>\n",
       "      <th>Married</th>\n",
       "      <th>Dependents</th>\n",
       "      <th>Education</th>\n",
       "      <th>Self_Employed</th>\n",
       "      <th>Credit_History</th>\n",
       "      <th>Property_Area</th>\n",
       "      <th>Loan_Status</th>\n",
       "      <th>ApplicantIncomeLog</th>\n",
       "      <th>LoanAmountLog</th>\n",
       "      <th>Loan_Amount_TermLog</th>\n",
       "      <th>Total_incomeLog</th>\n",
       "    </tr>\n",
       "  </thead>\n",
       "  <tbody>\n",
       "    <tr>\n",
       "      <th>0</th>\n",
       "      <td>Male</td>\n",
       "      <td>No</td>\n",
       "      <td>0</td>\n",
       "      <td>Graduate</td>\n",
       "      <td>No</td>\n",
       "      <td>1.0</td>\n",
       "      <td>Urban</td>\n",
       "      <td>Y</td>\n",
       "      <td>8.674026</td>\n",
       "      <td>4.986426</td>\n",
       "      <td>5.886104</td>\n",
       "      <td>8.674026</td>\n",
       "    </tr>\n",
       "    <tr>\n",
       "      <th>1</th>\n",
       "      <td>Male</td>\n",
       "      <td>Yes</td>\n",
       "      <td>1</td>\n",
       "      <td>Graduate</td>\n",
       "      <td>No</td>\n",
       "      <td>1.0</td>\n",
       "      <td>Rural</td>\n",
       "      <td>N</td>\n",
       "      <td>8.430109</td>\n",
       "      <td>4.852030</td>\n",
       "      <td>5.886104</td>\n",
       "      <td>8.714568</td>\n",
       "    </tr>\n",
       "    <tr>\n",
       "      <th>2</th>\n",
       "      <td>Male</td>\n",
       "      <td>Yes</td>\n",
       "      <td>0</td>\n",
       "      <td>Graduate</td>\n",
       "      <td>Yes</td>\n",
       "      <td>1.0</td>\n",
       "      <td>Urban</td>\n",
       "      <td>Y</td>\n",
       "      <td>8.006368</td>\n",
       "      <td>4.189655</td>\n",
       "      <td>5.886104</td>\n",
       "      <td>8.006368</td>\n",
       "    </tr>\n",
       "    <tr>\n",
       "      <th>3</th>\n",
       "      <td>Male</td>\n",
       "      <td>Yes</td>\n",
       "      <td>0</td>\n",
       "      <td>Not Graduate</td>\n",
       "      <td>No</td>\n",
       "      <td>1.0</td>\n",
       "      <td>Urban</td>\n",
       "      <td>Y</td>\n",
       "      <td>7.856707</td>\n",
       "      <td>4.787492</td>\n",
       "      <td>5.886104</td>\n",
       "      <td>8.505323</td>\n",
       "    </tr>\n",
       "    <tr>\n",
       "      <th>4</th>\n",
       "      <td>Male</td>\n",
       "      <td>No</td>\n",
       "      <td>0</td>\n",
       "      <td>Graduate</td>\n",
       "      <td>No</td>\n",
       "      <td>1.0</td>\n",
       "      <td>Urban</td>\n",
       "      <td>Y</td>\n",
       "      <td>8.699515</td>\n",
       "      <td>4.948760</td>\n",
       "      <td>5.886104</td>\n",
       "      <td>8.699515</td>\n",
       "    </tr>\n",
       "  </tbody>\n",
       "</table>\n",
       "</div>"
      ],
      "text/plain": [
       "  Gender Married Dependents     Education Self_Employed  Credit_History  \\\n",
       "0   Male      No          0      Graduate            No             1.0   \n",
       "1   Male     Yes          1      Graduate            No             1.0   \n",
       "2   Male     Yes          0      Graduate           Yes             1.0   \n",
       "3   Male     Yes          0  Not Graduate            No             1.0   \n",
       "4   Male      No          0      Graduate            No             1.0   \n",
       "\n",
       "  Property_Area Loan_Status  ApplicantIncomeLog  LoanAmountLog  \\\n",
       "0         Urban           Y            8.674026       4.986426   \n",
       "1         Rural           N            8.430109       4.852030   \n",
       "2         Urban           Y            8.006368       4.189655   \n",
       "3         Urban           Y            7.856707       4.787492   \n",
       "4         Urban           Y            8.699515       4.948760   \n",
       "\n",
       "   Loan_Amount_TermLog  Total_incomeLog  \n",
       "0             5.886104         8.674026  \n",
       "1             5.886104         8.714568  \n",
       "2             5.886104         8.006368  \n",
       "3             5.886104         8.505323  \n",
       "4             5.886104         8.699515  "
      ]
     },
     "execution_count": 33,
     "metadata": {},
     "output_type": "execute_result"
    }
   ],
   "source": [
    "#drop unnecessary columns\n",
    "cols = ['ApplicantIncome','CoapplicantIncome','LoanAmount','Loan_Amount_Term', 'Total_income', 'Loan_ID', 'CoapplicantIncomeLog']\n",
    "df = df.drop(columns = cols, axis =1)\n",
    "df.head()"
   ]
  },
  {
   "cell_type": "markdown",
   "id": "regular-rwanda",
   "metadata": {
    "papermill": {
     "duration": 0.067438,
     "end_time": "2021-04-30T13:13:09.564646",
     "exception": false,
     "start_time": "2021-04-30T13:13:09.497208",
     "status": "completed"
    },
    "tags": []
   },
   "source": [
    "# Label Encoding"
   ]
  },
  {
   "cell_type": "code",
   "execution_count": 34,
   "id": "silver-cassette",
   "metadata": {
    "execution": {
     "iopub.execute_input": "2021-04-30T13:13:09.713677Z",
     "iopub.status.busy": "2021-04-30T13:13:09.712966Z",
     "iopub.status.idle": "2021-04-30T13:13:09.898015Z",
     "shell.execute_reply": "2021-04-30T13:13:09.898570Z"
    },
    "papermill": {
     "duration": 0.267658,
     "end_time": "2021-04-30T13:13:09.898759",
     "exception": false,
     "start_time": "2021-04-30T13:13:09.631101",
     "status": "completed"
    },
    "tags": []
   },
   "outputs": [],
   "source": [
    "from sklearn.preprocessing import LabelEncoder\n",
    "cols = ['Gender', 'Married','Education','Self_Employed','Property_Area','Loan_Status', 'Dependents']\n",
    "le = LabelEncoder()\n",
    "for col in cols:\n",
    "    df[col]= le.fit_transform(df[col])"
   ]
  },
  {
   "cell_type": "code",
   "execution_count": 35,
   "id": "contrary-blanket",
   "metadata": {
    "execution": {
     "iopub.execute_input": "2021-04-30T13:13:10.036956Z",
     "iopub.status.busy": "2021-04-30T13:13:10.036316Z",
     "iopub.status.idle": "2021-04-30T13:13:10.054593Z",
     "shell.execute_reply": "2021-04-30T13:13:10.053880Z"
    },
    "papermill": {
     "duration": 0.088182,
     "end_time": "2021-04-30T13:13:10.054736",
     "exception": false,
     "start_time": "2021-04-30T13:13:09.966554",
     "status": "completed"
    },
    "tags": []
   },
   "outputs": [
    {
     "data": {
      "text/html": [
       "<div>\n",
       "<style scoped>\n",
       "    .dataframe tbody tr th:only-of-type {\n",
       "        vertical-align: middle;\n",
       "    }\n",
       "\n",
       "    .dataframe tbody tr th {\n",
       "        vertical-align: top;\n",
       "    }\n",
       "\n",
       "    .dataframe thead th {\n",
       "        text-align: right;\n",
       "    }\n",
       "</style>\n",
       "<table border=\"1\" class=\"dataframe\">\n",
       "  <thead>\n",
       "    <tr style=\"text-align: right;\">\n",
       "      <th></th>\n",
       "      <th>Gender</th>\n",
       "      <th>Married</th>\n",
       "      <th>Dependents</th>\n",
       "      <th>Education</th>\n",
       "      <th>Self_Employed</th>\n",
       "      <th>Credit_History</th>\n",
       "      <th>Property_Area</th>\n",
       "      <th>Loan_Status</th>\n",
       "      <th>ApplicantIncomeLog</th>\n",
       "      <th>LoanAmountLog</th>\n",
       "      <th>Loan_Amount_TermLog</th>\n",
       "      <th>Total_incomeLog</th>\n",
       "    </tr>\n",
       "  </thead>\n",
       "  <tbody>\n",
       "    <tr>\n",
       "      <th>0</th>\n",
       "      <td>1</td>\n",
       "      <td>0</td>\n",
       "      <td>0</td>\n",
       "      <td>0</td>\n",
       "      <td>0</td>\n",
       "      <td>1.0</td>\n",
       "      <td>2</td>\n",
       "      <td>1</td>\n",
       "      <td>8.674026</td>\n",
       "      <td>4.986426</td>\n",
       "      <td>5.886104</td>\n",
       "      <td>8.674026</td>\n",
       "    </tr>\n",
       "    <tr>\n",
       "      <th>1</th>\n",
       "      <td>1</td>\n",
       "      <td>1</td>\n",
       "      <td>1</td>\n",
       "      <td>0</td>\n",
       "      <td>0</td>\n",
       "      <td>1.0</td>\n",
       "      <td>0</td>\n",
       "      <td>0</td>\n",
       "      <td>8.430109</td>\n",
       "      <td>4.852030</td>\n",
       "      <td>5.886104</td>\n",
       "      <td>8.714568</td>\n",
       "    </tr>\n",
       "    <tr>\n",
       "      <th>2</th>\n",
       "      <td>1</td>\n",
       "      <td>1</td>\n",
       "      <td>0</td>\n",
       "      <td>0</td>\n",
       "      <td>1</td>\n",
       "      <td>1.0</td>\n",
       "      <td>2</td>\n",
       "      <td>1</td>\n",
       "      <td>8.006368</td>\n",
       "      <td>4.189655</td>\n",
       "      <td>5.886104</td>\n",
       "      <td>8.006368</td>\n",
       "    </tr>\n",
       "    <tr>\n",
       "      <th>3</th>\n",
       "      <td>1</td>\n",
       "      <td>1</td>\n",
       "      <td>0</td>\n",
       "      <td>1</td>\n",
       "      <td>0</td>\n",
       "      <td>1.0</td>\n",
       "      <td>2</td>\n",
       "      <td>1</td>\n",
       "      <td>7.856707</td>\n",
       "      <td>4.787492</td>\n",
       "      <td>5.886104</td>\n",
       "      <td>8.505323</td>\n",
       "    </tr>\n",
       "    <tr>\n",
       "      <th>4</th>\n",
       "      <td>1</td>\n",
       "      <td>0</td>\n",
       "      <td>0</td>\n",
       "      <td>0</td>\n",
       "      <td>0</td>\n",
       "      <td>1.0</td>\n",
       "      <td>2</td>\n",
       "      <td>1</td>\n",
       "      <td>8.699515</td>\n",
       "      <td>4.948760</td>\n",
       "      <td>5.886104</td>\n",
       "      <td>8.699515</td>\n",
       "    </tr>\n",
       "  </tbody>\n",
       "</table>\n",
       "</div>"
      ],
      "text/plain": [
       "   Gender  Married  Dependents  Education  Self_Employed  Credit_History  \\\n",
       "0       1        0           0          0              0             1.0   \n",
       "1       1        1           1          0              0             1.0   \n",
       "2       1        1           0          0              1             1.0   \n",
       "3       1        1           0          1              0             1.0   \n",
       "4       1        0           0          0              0             1.0   \n",
       "\n",
       "   Property_Area  Loan_Status  ApplicantIncomeLog  LoanAmountLog  \\\n",
       "0              2            1            8.674026       4.986426   \n",
       "1              0            0            8.430109       4.852030   \n",
       "2              2            1            8.006368       4.189655   \n",
       "3              2            1            7.856707       4.787492   \n",
       "4              2            1            8.699515       4.948760   \n",
       "\n",
       "   Loan_Amount_TermLog  Total_incomeLog  \n",
       "0             5.886104         8.674026  \n",
       "1             5.886104         8.714568  \n",
       "2             5.886104         8.006368  \n",
       "3             5.886104         8.505323  \n",
       "4             5.886104         8.699515  "
      ]
     },
     "execution_count": 35,
     "metadata": {},
     "output_type": "execute_result"
    }
   ],
   "source": [
    "df.head()"
   ]
  },
  {
   "cell_type": "markdown",
   "id": "vietnamese-marble",
   "metadata": {
    "papermill": {
     "duration": 0.067255,
     "end_time": "2021-04-30T13:13:10.190545",
     "exception": false,
     "start_time": "2021-04-30T13:13:10.123290",
     "status": "completed"
    },
    "tags": []
   },
   "source": [
    "# Train Test Split"
   ]
  },
  {
   "cell_type": "code",
   "execution_count": 36,
   "id": "retired-trauma",
   "metadata": {
    "execution": {
     "iopub.execute_input": "2021-04-30T13:13:10.329146Z",
     "iopub.status.busy": "2021-04-30T13:13:10.328403Z",
     "iopub.status.idle": "2021-04-30T13:13:10.333844Z",
     "shell.execute_reply": "2021-04-30T13:13:10.334375Z"
    },
    "papermill": {
     "duration": 0.076693,
     "end_time": "2021-04-30T13:13:10.334562",
     "exception": false,
     "start_time": "2021-04-30T13:13:10.257869",
     "status": "completed"
    },
    "tags": []
   },
   "outputs": [],
   "source": [
    "x = df.drop(columns = ['Loan_Status'], axis = 1)\n",
    "y = df['Loan_Status']\n"
   ]
  },
  {
   "cell_type": "code",
   "execution_count": 37,
   "id": "express-emphasis",
   "metadata": {
    "execution": {
     "iopub.execute_input": "2021-04-30T13:13:10.476287Z",
     "iopub.status.busy": "2021-04-30T13:13:10.475516Z",
     "iopub.status.idle": "2021-04-30T13:13:10.548858Z",
     "shell.execute_reply": "2021-04-30T13:13:10.549419Z"
    },
    "papermill": {
     "duration": 0.146782,
     "end_time": "2021-04-30T13:13:10.549599",
     "exception": false,
     "start_time": "2021-04-30T13:13:10.402817",
     "status": "completed"
    },
    "tags": []
   },
   "outputs": [],
   "source": [
    "from sklearn.model_selection import train_test_split\n",
    "x_train, x_test, y_train,y_test = train_test_split(x,y,test_size=0.25, random_state=51)"
   ]
  },
  {
   "cell_type": "markdown",
   "id": "resistant-right",
   "metadata": {
    "papermill": {
     "duration": 0.067847,
     "end_time": "2021-04-30T13:13:10.685980",
     "exception": false,
     "start_time": "2021-04-30T13:13:10.618133",
     "status": "completed"
    },
    "tags": []
   },
   "source": [
    "# Model Selection"
   ]
  },
  {
   "cell_type": "code",
   "execution_count": 38,
   "id": "smaller-there",
   "metadata": {
    "execution": {
     "iopub.execute_input": "2021-04-30T13:13:10.829769Z",
     "iopub.status.busy": "2021-04-30T13:13:10.828875Z",
     "iopub.status.idle": "2021-04-30T13:13:10.831168Z",
     "shell.execute_reply": "2021-04-30T13:13:10.831667Z"
    },
    "papermill": {
     "duration": 0.077987,
     "end_time": "2021-04-30T13:13:10.831838",
     "exception": false,
     "start_time": "2021-04-30T13:13:10.753851",
     "status": "completed"
    },
    "tags": []
   },
   "outputs": [],
   "source": [
    "from sklearn.model_selection import cross_val_score\n",
    "# define classify function\n",
    "def classify(model,x,y):\n",
    "    x_train, x_test, y_train,y_test = train_test_split(x,y,test_size=0.25, random_state=51)\n",
    "    model.fit(x_train,y_train)\n",
    "    print('Accuracy is ', model.score(x_test,y_test)*100)\n",
    "    #cross_validation basically used for better validation of model\n",
    "    score = cross_val_score(model,x,y,cv=5)\n",
    "    print('cross_validation ', np.mean(score)*100)\n",
    "    "
   ]
  },
  {
   "cell_type": "code",
   "execution_count": 39,
   "id": "neutral-solid",
   "metadata": {
    "execution": {
     "iopub.execute_input": "2021-04-30T13:13:10.976356Z",
     "iopub.status.busy": "2021-04-30T13:13:10.975643Z",
     "iopub.status.idle": "2021-04-30T13:13:11.263301Z",
     "shell.execute_reply": "2021-04-30T13:13:11.262682Z"
    },
    "papermill": {
     "duration": 0.36173,
     "end_time": "2021-04-30T13:13:11.263443",
     "exception": false,
     "start_time": "2021-04-30T13:13:10.901713",
     "status": "completed"
    },
    "tags": []
   },
   "outputs": [
    {
     "name": "stdout",
     "output_type": "stream",
     "text": [
      "Accuracy is  84.4155844155844\n",
      "cross_validation  80.9462881514061\n"
     ]
    }
   ],
   "source": [
    "from sklearn.linear_model import LogisticRegression\n",
    "model = LogisticRegression()\n",
    "classify(model,x,y)"
   ]
  },
  {
   "cell_type": "code",
   "execution_count": 40,
   "id": "tender-lodging",
   "metadata": {
    "execution": {
     "iopub.execute_input": "2021-04-30T13:13:11.407041Z",
     "iopub.status.busy": "2021-04-30T13:13:11.406292Z",
     "iopub.status.idle": "2021-04-30T13:13:11.578135Z",
     "shell.execute_reply": "2021-04-30T13:13:11.578668Z"
    },
    "papermill": {
     "duration": 0.246513,
     "end_time": "2021-04-30T13:13:11.578845",
     "exception": false,
     "start_time": "2021-04-30T13:13:11.332332",
     "status": "completed"
    },
    "tags": []
   },
   "outputs": [
    {
     "name": "stdout",
     "output_type": "stream",
     "text": [
      "Accuracy is  74.02597402597402\n",
      "cross_validation  70.69039051046249\n"
     ]
    }
   ],
   "source": [
    "from sklearn.tree import DecisionTreeClassifier\n",
    "model = DecisionTreeClassifier()\n",
    "classify(model,x,y)"
   ]
  },
  {
   "cell_type": "code",
   "execution_count": 41,
   "id": "strong-theta",
   "metadata": {
    "execution": {
     "iopub.execute_input": "2021-04-30T13:13:11.723093Z",
     "iopub.status.busy": "2021-04-30T13:13:11.722366Z",
     "iopub.status.idle": "2021-04-30T13:13:13.200562Z",
     "shell.execute_reply": "2021-04-30T13:13:13.199790Z"
    },
    "papermill": {
     "duration": 1.552975,
     "end_time": "2021-04-30T13:13:13.200722",
     "exception": false,
     "start_time": "2021-04-30T13:13:11.647747",
     "status": "completed"
    },
    "tags": []
   },
   "outputs": [
    {
     "name": "stdout",
     "output_type": "stream",
     "text": [
      "Accuracy is  82.46753246753246\n",
      "cross_validation  78.50326536052246\n"
     ]
    }
   ],
   "source": [
    "from sklearn.ensemble import RandomForestClassifier, ExtraTreesClassifier\n",
    "model = RandomForestClassifier()\n",
    "classify(model,x,y)"
   ]
  },
  {
   "cell_type": "code",
   "execution_count": 42,
   "id": "gothic-dealer",
   "metadata": {
    "execution": {
     "iopub.execute_input": "2021-04-30T13:13:13.349265Z",
     "iopub.status.busy": "2021-04-30T13:13:13.345328Z",
     "iopub.status.idle": "2021-04-30T13:13:14.421107Z",
     "shell.execute_reply": "2021-04-30T13:13:14.422241Z"
    },
    "papermill": {
     "duration": 1.152003,
     "end_time": "2021-04-30T13:13:14.422497",
     "exception": false,
     "start_time": "2021-04-30T13:13:13.270494",
     "status": "completed"
    },
    "tags": []
   },
   "outputs": [
    {
     "name": "stdout",
     "output_type": "stream",
     "text": [
      "Accuracy is  79.22077922077922\n",
      "cross_validation  76.38944422231107\n"
     ]
    }
   ],
   "source": [
    "model = ExtraTreesClassifier()\n",
    "classify(model,x,y)"
   ]
  },
  {
   "cell_type": "markdown",
   "id": "invalid-render",
   "metadata": {
    "papermill": {
     "duration": 0.069966,
     "end_time": "2021-04-30T13:13:14.564223",
     "exception": false,
     "start_time": "2021-04-30T13:13:14.494257",
     "status": "completed"
    },
    "tags": []
   },
   "source": [
    "# Hyper parameter tuning"
   ]
  },
  {
   "cell_type": "code",
   "execution_count": 43,
   "id": "thorough-august",
   "metadata": {
    "execution": {
     "iopub.execute_input": "2021-04-30T13:13:14.742851Z",
     "iopub.status.busy": "2021-04-30T13:13:14.742066Z",
     "iopub.status.idle": "2021-04-30T13:13:15.356756Z",
     "shell.execute_reply": "2021-04-30T13:13:15.357525Z"
    },
    "papermill": {
     "duration": 0.723112,
     "end_time": "2021-04-30T13:13:15.357770",
     "exception": false,
     "start_time": "2021-04-30T13:13:14.634658",
     "status": "completed"
    },
    "tags": []
   },
   "outputs": [
    {
     "name": "stdout",
     "output_type": "stream",
     "text": [
      "Accuracy is  81.81818181818183\n",
      "cross_validation  79.47887511662002\n"
     ]
    }
   ],
   "source": [
    "model = RandomForestClassifier(n_estimators=50,min_samples_split=18, max_depth=7, max_features=1)\n",
    "classify(model,x,y)"
   ]
  },
  {
   "cell_type": "markdown",
   "id": "ruled-jason",
   "metadata": {
    "papermill": {
     "duration": 0.07152,
     "end_time": "2021-04-30T13:13:15.502417",
     "exception": false,
     "start_time": "2021-04-30T13:13:15.430897",
     "status": "completed"
    },
    "tags": []
   },
   "source": [
    "# Confusion Matrix"
   ]
  },
  {
   "cell_type": "code",
   "execution_count": 44,
   "id": "statewide-press",
   "metadata": {
    "execution": {
     "iopub.execute_input": "2021-04-30T13:13:15.669115Z",
     "iopub.status.busy": "2021-04-30T13:13:15.653305Z",
     "iopub.status.idle": "2021-04-30T13:13:15.876748Z",
     "shell.execute_reply": "2021-04-30T13:13:15.876018Z"
    },
    "papermill": {
     "duration": 0.302411,
     "end_time": "2021-04-30T13:13:15.876901",
     "exception": false,
     "start_time": "2021-04-30T13:13:15.574490",
     "status": "completed"
    },
    "tags": []
   },
   "outputs": [
    {
     "data": {
      "text/plain": [
       "RandomForestClassifier()"
      ]
     },
     "execution_count": 44,
     "metadata": {},
     "output_type": "execute_result"
    }
   ],
   "source": [
    "model =RandomForestClassifier()\n",
    "model.fit(x_train,y_train)"
   ]
  },
  {
   "cell_type": "code",
   "execution_count": 45,
   "id": "sealed-convergence",
   "metadata": {
    "execution": {
     "iopub.execute_input": "2021-04-30T13:13:16.038741Z",
     "iopub.status.busy": "2021-04-30T13:13:16.032529Z",
     "iopub.status.idle": "2021-04-30T13:13:16.053878Z",
     "shell.execute_reply": "2021-04-30T13:13:16.053209Z"
    },
    "papermill": {
     "duration": 0.102443,
     "end_time": "2021-04-30T13:13:16.054020",
     "exception": false,
     "start_time": "2021-04-30T13:13:15.951577",
     "status": "completed"
    },
    "tags": []
   },
   "outputs": [
    {
     "data": {
      "text/plain": [
       "array([[ 20,  23],\n",
       "       [  5, 106]])"
      ]
     },
     "execution_count": 45,
     "metadata": {},
     "output_type": "execute_result"
    }
   ],
   "source": [
    "from sklearn.metrics import confusion_matrix\n",
    "y_pred = model.predict(x_test)\n",
    "cm = confusion_matrix(y_test,y_pred)\n",
    "cm"
   ]
  },
  {
   "cell_type": "code",
   "execution_count": 46,
   "id": "general-milwaukee",
   "metadata": {
    "execution": {
     "iopub.execute_input": "2021-04-30T13:13:16.252038Z",
     "iopub.status.busy": "2021-04-30T13:13:16.231027Z",
     "iopub.status.idle": "2021-04-30T13:13:16.425743Z",
     "shell.execute_reply": "2021-04-30T13:13:16.425016Z"
    },
    "papermill": {
     "duration": 0.298829,
     "end_time": "2021-04-30T13:13:16.425912",
     "exception": false,
     "start_time": "2021-04-30T13:13:16.127083",
     "status": "completed"
    },
    "tags": []
   },
   "outputs": [
    {
     "data": {
      "text/plain": [
       "<AxesSubplot:>"
      ]
     },
     "execution_count": 46,
     "metadata": {},
     "output_type": "execute_result"
    },
    {
     "data": {
      "image/png": "[encoded data removed]",
      "text/plain": [
       "<Figure size 432x288 with 2 Axes>"
      ]
     },
     "metadata": {
      "needs_background": "light"
     },
     "output_type": "display_data"
    }
   ],
   "source": [
    "sns.heatmap(cm,annot=True)"
   ]
  },
  {
   "cell_type": "code",
   "execution_count": null,
   "id": "progressive-slovenia",
   "metadata": {
    "papermill": {
     "duration": 0.073796,
     "end_time": "2021-04-30T13:13:16.574071",
     "exception": false,
     "start_time": "2021-04-30T13:13:16.500275",
     "status": "completed"
    },
    "tags": []
   },
   "outputs": [],
   "source": []
  }
 ],
 "metadata": {
  "kernelspec": {
   "display_name": "Python 3",
   "language": "python",
   "name": "python3"
  },
  "language_info": {
   "codemirror_mode": {
    "name": "ipython",
    "version": 3
   },
   "file_extension": ".py",
   "mimetype": "text/x-python",
   "name": "python",
   "nbconvert_exporter": "python",
   "pygments_lexer": "ipython3",
   "version": "3.7.9"
  },
  "papermill": {
   "default_parameters": {},
   "duration": 24.581602,
   "end_time": "2021-04-30T13:13:17.460139",
   "environment_variables": {},
   "exception": null,
   "input_path": "__notebook__.ipynb",
   "output_path": "__notebook__.ipynb",
   "parameters": {},
   "start_time": "2021-04-30T13:12:52.878537",
   "version": "2.3.2"
  }
 },
 "nbformat": 4,
 "nbformat_minor": 5
}
